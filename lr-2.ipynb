{
 "cells": [
  {
   "cell_type": "markdown",
   "source": [
    "Винников Степан\n",
    "ИУ5-62Б\n",
    "ЛР№2"
   ],
   "metadata": {
    "collapsed": false,
    "pycharm": {
     "name": "#%% md\n"
    }
   }
  },
  {
   "cell_type": "code",
   "execution_count": 47,
   "outputs": [],
   "source": [
    "import numpy as np\n",
    "import pandas as pd\n",
    "import seaborn as sns\n",
    "import matplotlib.pyplot as plt\n",
    "%matplotlib inline\n",
    "sns.set(style=\"ticks\")\n",
    "from sklearn.impute import SimpleImputer\n",
    "from sklearn.impute import MissingIndicator\n",
    "from sklearn.preprocessing import LabelEncoder\n",
    "from sklearn.preprocessing import OrdinalEncoder\n",
    "from sklearn.preprocessing import MinMaxScaler, StandardScaler, Normalizer"
   ],
   "metadata": {
    "collapsed": false,
    "pycharm": {
     "name": "#%%\n"
    }
   }
  },
  {
   "cell_type": "code",
   "execution_count": 48,
   "outputs": [],
   "source": [
    "data = pd.read_csv('boston_crime.csv', encoding='windows-1252')"
   ],
   "metadata": {
    "collapsed": false,
    "pycharm": {
     "name": "#%%\n"
    }
   }
  },
  {
   "cell_type": "code",
   "execution_count": 49,
   "outputs": [
    {
     "data": {
      "text/plain": "(260503, 17)"
     },
     "execution_count": 49,
     "metadata": {},
     "output_type": "execute_result"
    }
   ],
   "source": [
    "# размер набора данных\n",
    "data.shape"
   ],
   "metadata": {
    "collapsed": false,
    "pycharm": {
     "name": "#%%\n"
    }
   }
  },
  {
   "cell_type": "code",
   "execution_count": 50,
   "outputs": [
    {
     "data": {
      "text/plain": "INCIDENT_NUMBER             0\nOFFENSE_CODE                0\nOFFENSE_CODE_GROUP          0\nOFFENSE_DESCRIPTION         0\nDISTRICT                 1412\nREPORTING_AREA              0\nSHOOTING               259650\nOCCURRED_ON_DATE            0\nYEAR                        0\nMONTH                       0\nDAY_OF_WEEK                 0\nHOUR                        0\nUCR_PART                   79\nSTREET                  10072\nLat                     15918\nLong                    15918\nLocation                    0\ndtype: int64"
     },
     "execution_count": 50,
     "metadata": {},
     "output_type": "execute_result"
    }
   ],
   "source": [
    "# проверим есть ли пропущенные значения\n",
    "data.isnull().sum()"
   ],
   "metadata": {
    "collapsed": false,
    "pycharm": {
     "name": "#%%\n"
    }
   }
  },
  {
   "cell_type": "code",
   "execution_count": 51,
   "outputs": [
    {
     "data": {
      "text/plain": "  INCIDENT_NUMBER  OFFENSE_CODE    OFFENSE_CODE_GROUP  \\\n0      I182009324          3115    Investigate Person   \n1      I182009319           802        Simple Assault   \n2      I182009313          1402             Vandalism   \n3      I182009311          3410                 Towed   \n4      I182009309          3114  Investigate Property   \n\n        OFFENSE_DESCRIPTION DISTRICT REPORTING_AREA SHOOTING  \\\n0        INVESTIGATE PERSON       B2            321      NaN   \n1  ASSAULT SIMPLE - BATTERY      C11            354      NaN   \n2                 VANDALISM       C6            914      NaN   \n3       TOWED MOTOR VEHICLE      C11            247      NaN   \n4      INVESTIGATE PROPERTY      E13            638      NaN   \n\n      OCCURRED_ON_DATE  YEAR  MONTH DAY_OF_WEEK  HOUR    UCR_PART  \\\n0  2018-02-04 20:32:00  2018      2      Sunday    20  Part Three   \n1  2018-02-04 21:31:00  2018      2      Sunday    21    Part Two   \n2  2018-02-04 20:44:00  2018      2      Sunday    20    Part Two   \n3  2018-02-04 16:40:00  2018      2      Sunday    16  Part Three   \n4  2018-02-04 20:51:16  2018      2      Sunday    20  Part Three   \n\n           STREET        Lat       Long                     Location  \n0   BLUE HILL AVE  42.309525 -71.082618  (42.30952511, -71.08261838)  \n1        ADAMS ST  42.298077 -71.056952  (42.29807739, -71.05695195)  \n2  OLD COLONY AVE  42.324226 -71.052426  (42.32422562, -71.05242608)  \n3        PEARL ST  42.314935 -71.058349  (42.31493506, -71.05834852)  \n4     DANFORTH ST  42.317552 -71.105345  (42.31755171, -71.10534530)  ",
      "text/html": "<div>\n<style scoped>\n    .dataframe tbody tr th:only-of-type {\n        vertical-align: middle;\n    }\n\n    .dataframe tbody tr th {\n        vertical-align: top;\n    }\n\n    .dataframe thead th {\n        text-align: right;\n    }\n</style>\n<table border=\"1\" class=\"dataframe\">\n  <thead>\n    <tr style=\"text-align: right;\">\n      <th></th>\n      <th>INCIDENT_NUMBER</th>\n      <th>OFFENSE_CODE</th>\n      <th>OFFENSE_CODE_GROUP</th>\n      <th>OFFENSE_DESCRIPTION</th>\n      <th>DISTRICT</th>\n      <th>REPORTING_AREA</th>\n      <th>SHOOTING</th>\n      <th>OCCURRED_ON_DATE</th>\n      <th>YEAR</th>\n      <th>MONTH</th>\n      <th>DAY_OF_WEEK</th>\n      <th>HOUR</th>\n      <th>UCR_PART</th>\n      <th>STREET</th>\n      <th>Lat</th>\n      <th>Long</th>\n      <th>Location</th>\n    </tr>\n  </thead>\n  <tbody>\n    <tr>\n      <th>0</th>\n      <td>I182009324</td>\n      <td>3115</td>\n      <td>Investigate Person</td>\n      <td>INVESTIGATE PERSON</td>\n      <td>B2</td>\n      <td>321</td>\n      <td>NaN</td>\n      <td>2018-02-04 20:32:00</td>\n      <td>2018</td>\n      <td>2</td>\n      <td>Sunday</td>\n      <td>20</td>\n      <td>Part Three</td>\n      <td>BLUE HILL AVE</td>\n      <td>42.309525</td>\n      <td>-71.082618</td>\n      <td>(42.30952511, -71.08261838)</td>\n    </tr>\n    <tr>\n      <th>1</th>\n      <td>I182009319</td>\n      <td>802</td>\n      <td>Simple Assault</td>\n      <td>ASSAULT SIMPLE - BATTERY</td>\n      <td>C11</td>\n      <td>354</td>\n      <td>NaN</td>\n      <td>2018-02-04 21:31:00</td>\n      <td>2018</td>\n      <td>2</td>\n      <td>Sunday</td>\n      <td>21</td>\n      <td>Part Two</td>\n      <td>ADAMS ST</td>\n      <td>42.298077</td>\n      <td>-71.056952</td>\n      <td>(42.29807739, -71.05695195)</td>\n    </tr>\n    <tr>\n      <th>2</th>\n      <td>I182009313</td>\n      <td>1402</td>\n      <td>Vandalism</td>\n      <td>VANDALISM</td>\n      <td>C6</td>\n      <td>914</td>\n      <td>NaN</td>\n      <td>2018-02-04 20:44:00</td>\n      <td>2018</td>\n      <td>2</td>\n      <td>Sunday</td>\n      <td>20</td>\n      <td>Part Two</td>\n      <td>OLD COLONY AVE</td>\n      <td>42.324226</td>\n      <td>-71.052426</td>\n      <td>(42.32422562, -71.05242608)</td>\n    </tr>\n    <tr>\n      <th>3</th>\n      <td>I182009311</td>\n      <td>3410</td>\n      <td>Towed</td>\n      <td>TOWED MOTOR VEHICLE</td>\n      <td>C11</td>\n      <td>247</td>\n      <td>NaN</td>\n      <td>2018-02-04 16:40:00</td>\n      <td>2018</td>\n      <td>2</td>\n      <td>Sunday</td>\n      <td>16</td>\n      <td>Part Three</td>\n      <td>PEARL ST</td>\n      <td>42.314935</td>\n      <td>-71.058349</td>\n      <td>(42.31493506, -71.05834852)</td>\n    </tr>\n    <tr>\n      <th>4</th>\n      <td>I182009309</td>\n      <td>3114</td>\n      <td>Investigate Property</td>\n      <td>INVESTIGATE PROPERTY</td>\n      <td>E13</td>\n      <td>638</td>\n      <td>NaN</td>\n      <td>2018-02-04 20:51:16</td>\n      <td>2018</td>\n      <td>2</td>\n      <td>Sunday</td>\n      <td>20</td>\n      <td>Part Three</td>\n      <td>DANFORTH ST</td>\n      <td>42.317552</td>\n      <td>-71.105345</td>\n      <td>(42.31755171, -71.10534530)</td>\n    </tr>\n  </tbody>\n</table>\n</div>"
     },
     "execution_count": 51,
     "metadata": {},
     "output_type": "execute_result"
    }
   ],
   "source": [
    "data.head()"
   ],
   "metadata": {
    "collapsed": false,
    "pycharm": {
     "name": "#%%\n"
    }
   }
  },
  {
   "cell_type": "code",
   "execution_count": 52,
   "outputs": [
    {
     "data": {
      "text/plain": "INCIDENT_NUMBER         object\nOFFENSE_CODE             int64\nOFFENSE_CODE_GROUP      object\nOFFENSE_DESCRIPTION     object\nDISTRICT                object\nREPORTING_AREA          object\nSHOOTING                object\nOCCURRED_ON_DATE        object\nYEAR                     int64\nMONTH                    int64\nDAY_OF_WEEK             object\nHOUR                     int64\nUCR_PART                object\nSTREET                  object\nLat                    float64\nLong                   float64\nLocation                object\ndtype: object"
     },
     "execution_count": 52,
     "metadata": {},
     "output_type": "execute_result"
    }
   ],
   "source": [
    "data.dtypes"
   ],
   "metadata": {
    "collapsed": false,
    "pycharm": {
     "name": "#%%\n"
    }
   }
  },
  {
   "cell_type": "code",
   "execution_count": 53,
   "outputs": [
    {
     "name": "stdout",
     "output_type": "stream",
     "text": [
      "Всего строк: 260503\n"
     ]
    }
   ],
   "source": [
    "total_count = data.shape[0]\n",
    "print('Всего строк: {}'.format(total_count))"
   ],
   "metadata": {
    "collapsed": false,
    "pycharm": {
     "name": "#%%\n"
    }
   }
  },
  {
   "cell_type": "code",
   "execution_count": 54,
   "outputs": [
    {
     "name": "stdout",
     "output_type": "stream",
     "text": [
      "Колонка Lat. Тип данных float64. Количество пустых значений 15918, 6.11%.\n",
      "Колонка Long. Тип данных float64. Количество пустых значений 15918, 6.11%.\n"
     ]
    }
   ],
   "source": [
    "num_cols = []\n",
    "for col in data.columns:\n",
    "    # Количество пустых значений \n",
    "    temp_null_count = data[data[col].isnull()].shape[0]\n",
    "    dt = str(data[col].dtype)\n",
    "    if temp_null_count>0 and (dt=='float64' or dt=='int64'):\n",
    "        num_cols.append(col)\n",
    "        temp_perc = round((temp_null_count / total_count) * 100.0, 2)\n",
    "        print('Колонка {}. Тип данных {}. Количество пустых значений {}, {}%.'.format(col, dt, temp_null_count, temp_perc))"
   ],
   "metadata": {
    "collapsed": false,
    "pycharm": {
     "name": "#%%\n"
    }
   }
  },
  {
   "cell_type": "code",
   "execution_count": 55,
   "outputs": [
    {
     "name": "stdout",
     "output_type": "stream",
     "text": [
      "Колонка DISTRICT. Тип данных object. Количество пустых значений 1412, 0.54%.\n",
      "Колонка SHOOTING. Тип данных object. Количество пустых значений 259650, 99.67%.\n",
      "Колонка UCR_PART. Тип данных object. Количество пустых значений 79, 0.03%.\n",
      "Колонка STREET. Тип данных object. Количество пустых значений 10072, 3.87%.\n"
     ]
    }
   ],
   "source": [
    "cat_cols = []\n",
    "for col in data.columns:\n",
    "    # Количество пустых значений \n",
    "    temp_null_count = data[data[col].isnull()].shape[0]\n",
    "    dt = str(data[col].dtype)\n",
    "    if temp_null_count>0 and (dt=='object'):\n",
    "        cat_cols.append(col)\n",
    "        temp_perc = round((temp_null_count / total_count) * 100.0, 2)\n",
    "        print('Колонка {}. Тип данных {}. Количество пустых значений {}, {}%.'.format(col, dt, temp_null_count, temp_perc))"
   ],
   "metadata": {
    "collapsed": false,
    "pycharm": {
     "name": "#%%\n"
    }
   }
  },
  {
   "cell_type": "code",
   "execution_count": 56,
   "outputs": [
    {
     "data": {
      "text/plain": "              Lat       Long\n0       42.309525 -71.082618\n1       42.298077 -71.056952\n2       42.324226 -71.052426\n3       42.314935 -71.058349\n4       42.317552 -71.105345\n...           ...        ...\n260498  42.336951 -71.085748\n260499  42.255926 -71.123172\n260500  42.255926 -71.123172\n260501  42.302333 -71.111565\n260502  42.333839 -71.080290\n\n[260503 rows x 2 columns]",
      "text/html": "<div>\n<style scoped>\n    .dataframe tbody tr th:only-of-type {\n        vertical-align: middle;\n    }\n\n    .dataframe tbody tr th {\n        vertical-align: top;\n    }\n\n    .dataframe thead th {\n        text-align: right;\n    }\n</style>\n<table border=\"1\" class=\"dataframe\">\n  <thead>\n    <tr style=\"text-align: right;\">\n      <th></th>\n      <th>Lat</th>\n      <th>Long</th>\n    </tr>\n  </thead>\n  <tbody>\n    <tr>\n      <th>0</th>\n      <td>42.309525</td>\n      <td>-71.082618</td>\n    </tr>\n    <tr>\n      <th>1</th>\n      <td>42.298077</td>\n      <td>-71.056952</td>\n    </tr>\n    <tr>\n      <th>2</th>\n      <td>42.324226</td>\n      <td>-71.052426</td>\n    </tr>\n    <tr>\n      <th>3</th>\n      <td>42.314935</td>\n      <td>-71.058349</td>\n    </tr>\n    <tr>\n      <th>4</th>\n      <td>42.317552</td>\n      <td>-71.105345</td>\n    </tr>\n    <tr>\n      <th>...</th>\n      <td>...</td>\n      <td>...</td>\n    </tr>\n    <tr>\n      <th>260498</th>\n      <td>42.336951</td>\n      <td>-71.085748</td>\n    </tr>\n    <tr>\n      <th>260499</th>\n      <td>42.255926</td>\n      <td>-71.123172</td>\n    </tr>\n    <tr>\n      <th>260500</th>\n      <td>42.255926</td>\n      <td>-71.123172</td>\n    </tr>\n    <tr>\n      <th>260501</th>\n      <td>42.302333</td>\n      <td>-71.111565</td>\n    </tr>\n    <tr>\n      <th>260502</th>\n      <td>42.333839</td>\n      <td>-71.080290</td>\n    </tr>\n  </tbody>\n</table>\n<p>260503 rows × 2 columns</p>\n</div>"
     },
     "execution_count": 56,
     "metadata": {},
     "output_type": "execute_result"
    }
   ],
   "source": [
    "data_num = data[num_cols]\n",
    "data_num"
   ],
   "metadata": {
    "collapsed": false,
    "pycharm": {
     "name": "#%%\n"
    }
   }
  },
  {
   "cell_type": "code",
   "execution_count": 57,
   "outputs": [
    {
     "data": {
      "text/plain": "<Figure size 432x288 with 1 Axes>",
      "image/png": "[encoded data removed]"
     },
     "metadata": {},
     "output_type": "display_data"
    },
    {
     "data": {
      "text/plain": "<Figure size 432x288 with 1 Axes>",
      "image/png": "[encoded data removed]"
     },
     "metadata": {},
     "output_type": "display_data"
    }
   ],
   "source": [
    "# Гистограмма по признакам\n",
    "for col in data_num:\n",
    "    plt.hist(data[col], 50)\n",
    "    plt.xlabel(col)\n",
    "    plt.show()"
   ],
   "metadata": {
    "collapsed": false,
    "pycharm": {
     "name": "#%%\n"
    }
   }
  },
  {
   "cell_type": "code",
   "execution_count": 58,
   "outputs": [
    {
     "data": {
      "text/plain": "         Lat\n0  42.309525\n1  42.298077\n2  42.324226\n3  42.314935\n4  42.317552",
      "text/html": "<div>\n<style scoped>\n    .dataframe tbody tr th:only-of-type {\n        vertical-align: middle;\n    }\n\n    .dataframe tbody tr th {\n        vertical-align: top;\n    }\n\n    .dataframe thead th {\n        text-align: right;\n    }\n</style>\n<table border=\"1\" class=\"dataframe\">\n  <thead>\n    <tr style=\"text-align: right;\">\n      <th></th>\n      <th>Lat</th>\n    </tr>\n  </thead>\n  <tbody>\n    <tr>\n      <th>0</th>\n      <td>42.309525</td>\n    </tr>\n    <tr>\n      <th>1</th>\n      <td>42.298077</td>\n    </tr>\n    <tr>\n      <th>2</th>\n      <td>42.324226</td>\n    </tr>\n    <tr>\n      <th>3</th>\n      <td>42.314935</td>\n    </tr>\n    <tr>\n      <th>4</th>\n      <td>42.317552</td>\n    </tr>\n  </tbody>\n</table>\n</div>"
     },
     "execution_count": 58,
     "metadata": {},
     "output_type": "execute_result"
    }
   ],
   "source": [
    "data_num_Lat = data_num[['Lat']]\n",
    "data_num_Lat.head()"
   ],
   "metadata": {
    "collapsed": false,
    "pycharm": {
     "name": "#%%\n"
    }
   }
  },
  {
   "cell_type": "code",
   "execution_count": 59,
   "outputs": [
    {
     "data": {
      "text/plain": "array([[False],\n       [False],\n       [False],\n       ...,\n       [False],\n       [False],\n       [False]])"
     },
     "execution_count": 59,
     "metadata": {},
     "output_type": "execute_result"
    }
   ],
   "source": [
    "# Фильтр для проверки заполнения пустых значений\n",
    "indicator = MissingIndicator()\n",
    "mask_missing_values_only = indicator.fit_transform(data_num_Lat)\n",
    "mask_missing_values_only"
   ],
   "metadata": {
    "collapsed": false,
    "pycharm": {
     "name": "#%%\n"
    }
   }
  },
  {
   "cell_type": "code",
   "execution_count": 60,
   "outputs": [],
   "source": [
    "strategies=['mean']"
   ],
   "metadata": {
    "collapsed": false,
    "pycharm": {
     "name": "#%%\n"
    }
   }
  },
  {
   "cell_type": "code",
   "execution_count": 61,
   "outputs": [],
   "source": [
    "def test_num_impute(strategy_param):\n",
    "    imp_num = SimpleImputer(strategy=strategy_param)\n",
    "    data_num_imp = imp_num.fit_transform(data_num_Lat)\n",
    "    return data_num_imp[mask_missing_values_only]"
   ],
   "metadata": {
    "collapsed": false,
    "pycharm": {
     "name": "#%%\n"
    }
   }
  },
  {
   "cell_type": "code",
   "execution_count": 62,
   "outputs": [
    {
     "data": {
      "text/plain": "('mean',\n array([42.22622038, 42.22622038, 42.22622038, ..., 42.22622038,\n        42.22622038, 42.22622038]))"
     },
     "execution_count": 62,
     "metadata": {},
     "output_type": "execute_result"
    }
   ],
   "source": [
    "strategies[0], test_num_impute(strategies[0])"
   ],
   "metadata": {
    "collapsed": false,
    "pycharm": {
     "name": "#%%\n"
    }
   }
  },
  {
   "cell_type": "code",
   "execution_count": 63,
   "outputs": [
    {
     "data": {
      "text/plain": "        Long\n0 -71.082618\n1 -71.056952\n2 -71.052426\n3 -71.058349\n4 -71.105345",
      "text/html": "<div>\n<style scoped>\n    .dataframe tbody tr th:only-of-type {\n        vertical-align: middle;\n    }\n\n    .dataframe tbody tr th {\n        vertical-align: top;\n    }\n\n    .dataframe thead th {\n        text-align: right;\n    }\n</style>\n<table border=\"1\" class=\"dataframe\">\n  <thead>\n    <tr style=\"text-align: right;\">\n      <th></th>\n      <th>Long</th>\n    </tr>\n  </thead>\n  <tbody>\n    <tr>\n      <th>0</th>\n      <td>-71.082618</td>\n    </tr>\n    <tr>\n      <th>1</th>\n      <td>-71.056952</td>\n    </tr>\n    <tr>\n      <th>2</th>\n      <td>-71.052426</td>\n    </tr>\n    <tr>\n      <th>3</th>\n      <td>-71.058349</td>\n    </tr>\n    <tr>\n      <th>4</th>\n      <td>-71.105345</td>\n    </tr>\n  </tbody>\n</table>\n</div>"
     },
     "execution_count": 63,
     "metadata": {},
     "output_type": "execute_result"
    }
   ],
   "source": [
    "data_num_Long = data_num[['Long']]\n",
    "data_num_Long.head()"
   ],
   "metadata": {
    "collapsed": false,
    "pycharm": {
     "name": "#%%\n"
    }
   }
  },
  {
   "cell_type": "code",
   "execution_count": 64,
   "outputs": [
    {
     "data": {
      "text/plain": "array([[False],\n       [False],\n       [False],\n       ...,\n       [False],\n       [False],\n       [False]])"
     },
     "execution_count": 64,
     "metadata": {},
     "output_type": "execute_result"
    }
   ],
   "source": [
    "# Фильтр для проверки заполнения пустых значений\n",
    "indicator = MissingIndicator()\n",
    "mask_missing_values_only = indicator.fit_transform(data_num_Long)\n",
    "mask_missing_values_only"
   ],
   "metadata": {
    "collapsed": false,
    "pycharm": {
     "name": "#%%\n"
    }
   }
  },
  {
   "cell_type": "code",
   "execution_count": 65,
   "outputs": [],
   "source": [
    "def test_num_impute(strategy_param):\n",
    "    imp_num = SimpleImputer(strategy=strategy_param)\n",
    "    data_num_imp = imp_num.fit_transform(data_num_Long)\n",
    "    return data_num_imp[mask_missing_values_only]"
   ],
   "metadata": {
    "collapsed": false,
    "pycharm": {
     "name": "#%%\n"
    }
   }
  },
  {
   "cell_type": "code",
   "execution_count": 66,
   "outputs": [
    {
     "data": {
      "text/plain": "('mean',\n array([-70.92721537, -70.92721537, -70.92721537, ..., -70.92721537,\n        -70.92721537, -70.92721537]))"
     },
     "execution_count": 66,
     "metadata": {},
     "output_type": "execute_result"
    }
   ],
   "source": [
    "strategies[0], test_num_impute(strategies[0])"
   ],
   "metadata": {
    "collapsed": false,
    "pycharm": {
     "name": "#%%\n"
    }
   }
  },
  {
   "cell_type": "code",
   "execution_count": 67,
   "outputs": [
    {
     "data": {
      "text/plain": "INCIDENT_NUMBER             0\nOFFENSE_CODE                0\nOFFENSE_CODE_GROUP          0\nOFFENSE_DESCRIPTION         0\nDISTRICT                 1412\nREPORTING_AREA              0\nSHOOTING               259650\nOCCURRED_ON_DATE            0\nYEAR                        0\nMONTH                       0\nDAY_OF_WEEK                 0\nHOUR                        0\nUCR_PART                   79\nSTREET                  10072\nLat                     15918\nLong                    15918\nLocation                    0\ndtype: int64"
     },
     "execution_count": 67,
     "metadata": {},
     "output_type": "execute_result"
    }
   ],
   "source": [
    "data.isnull().sum()"
   ],
   "metadata": {
    "collapsed": false,
    "pycharm": {
     "name": "#%%\n"
    }
   }
  },
  {
   "cell_type": "code",
   "execution_count": 68,
   "outputs": [
    {
     "name": "stdout",
     "output_type": "stream",
     "text": [
      "Колонка DISTRICT. Тип данных object. Количество пустых значений 1412, 0.54%.\n",
      "Колонка SHOOTING. Тип данных object. Количество пустых значений 259650, 99.67%.\n",
      "Колонка UCR_PART. Тип данных object. Количество пустых значений 79, 0.03%.\n",
      "Колонка STREET. Тип данных object. Количество пустых значений 10072, 3.87%.\n"
     ]
    }
   ],
   "source": [
    "cat_cols = []\n",
    "for col in data.columns:\n",
    "    # Количество пустых значений \n",
    "    temp_null_count = data[data[col].isnull()].shape[0]\n",
    "    dt = str(data[col].dtype)\n",
    "    if temp_null_count>0 and (dt=='object'):\n",
    "        cat_cols.append(col)\n",
    "        temp_perc = round((temp_null_count / total_count) * 100.0, 2)\n",
    "        print('Колонка {}. Тип данных {}. Количество пустых значений {}, {}%.'.format(col, dt, temp_null_count, temp_perc))"
   ],
   "metadata": {
    "collapsed": false,
    "pycharm": {
     "name": "#%%\n"
    }
   }
  },
  {
   "cell_type": "code",
   "execution_count": 69,
   "outputs": [
    {
     "data": {
      "text/plain": "  DISTRICT\n0       B2\n1      C11\n2       C6\n3      C11\n4      E13",
      "text/html": "<div>\n<style scoped>\n    .dataframe tbody tr th:only-of-type {\n        vertical-align: middle;\n    }\n\n    .dataframe tbody tr th {\n        vertical-align: top;\n    }\n\n    .dataframe thead th {\n        text-align: right;\n    }\n</style>\n<table border=\"1\" class=\"dataframe\">\n  <thead>\n    <tr style=\"text-align: right;\">\n      <th></th>\n      <th>DISTRICT</th>\n    </tr>\n  </thead>\n  <tbody>\n    <tr>\n      <th>0</th>\n      <td>B2</td>\n    </tr>\n    <tr>\n      <th>1</th>\n      <td>C11</td>\n    </tr>\n    <tr>\n      <th>2</th>\n      <td>C6</td>\n    </tr>\n    <tr>\n      <th>3</th>\n      <td>C11</td>\n    </tr>\n    <tr>\n      <th>4</th>\n      <td>E13</td>\n    </tr>\n  </tbody>\n</table>\n</div>"
     },
     "execution_count": 69,
     "metadata": {},
     "output_type": "execute_result"
    }
   ],
   "source": [
    "cat_temp_data = data[['DISTRICT']]\n",
    "cat_temp_data.head()"
   ],
   "metadata": {
    "collapsed": false,
    "pycharm": {
     "name": "#%%\n"
    }
   }
  },
  {
   "cell_type": "code",
   "execution_count": 70,
   "outputs": [
    {
     "data": {
      "text/plain": "array(['B2', 'C11', 'C6', 'E13', 'B3', 'A7', 'A1', 'E18', nan, 'D4',\n       'D14', 'E5', 'A15'], dtype=object)"
     },
     "execution_count": 70,
     "metadata": {},
     "output_type": "execute_result"
    }
   ],
   "source": [
    "cat_temp_data['DISTRICT'].unique()"
   ],
   "metadata": {
    "collapsed": false,
    "pycharm": {
     "name": "#%%\n"
    }
   }
  },
  {
   "cell_type": "code",
   "execution_count": 71,
   "outputs": [
    {
     "data": {
      "text/plain": "array([['B2'],\n       ['C11'],\n       ['C6'],\n       ...,\n       ['E18'],\n       ['E13'],\n       ['D4']], dtype=object)"
     },
     "execution_count": 71,
     "metadata": {},
     "output_type": "execute_result"
    }
   ],
   "source": [
    "imp2 = SimpleImputer(missing_values=np.nan, strategy='most_frequent')\n",
    "data_imp2 = imp2.fit_transform(cat_temp_data)\n",
    "data_imp2"
   ],
   "metadata": {
    "collapsed": false,
    "pycharm": {
     "name": "#%%\n"
    }
   }
  },
  {
   "cell_type": "code",
   "execution_count": 72,
   "outputs": [
    {
     "data": {
      "text/plain": "array(['A1', 'A15', 'A7', 'B2', 'B3', 'C11', 'C6', 'D14', 'D4', 'E13',\n       'E18', 'E5'], dtype=object)"
     },
     "execution_count": 72,
     "metadata": {},
     "output_type": "execute_result"
    }
   ],
   "source": [
    "# Пустые значения отсутствуют\n",
    "np.unique(data_imp2)"
   ],
   "metadata": {
    "collapsed": false,
    "pycharm": {
     "name": "#%%\n"
    }
   }
  },
  {
   "cell_type": "code",
   "execution_count": 73,
   "outputs": [
    {
     "data": {
      "text/plain": "     UCR_PART\n0  Part Three\n1    Part Two\n2    Part Two\n3  Part Three\n4  Part Three",
      "text/html": "<div>\n<style scoped>\n    .dataframe tbody tr th:only-of-type {\n        vertical-align: middle;\n    }\n\n    .dataframe tbody tr th {\n        vertical-align: top;\n    }\n\n    .dataframe thead th {\n        text-align: right;\n    }\n</style>\n<table border=\"1\" class=\"dataframe\">\n  <thead>\n    <tr style=\"text-align: right;\">\n      <th></th>\n      <th>UCR_PART</th>\n    </tr>\n  </thead>\n  <tbody>\n    <tr>\n      <th>0</th>\n      <td>Part Three</td>\n    </tr>\n    <tr>\n      <th>1</th>\n      <td>Part Two</td>\n    </tr>\n    <tr>\n      <th>2</th>\n      <td>Part Two</td>\n    </tr>\n    <tr>\n      <th>3</th>\n      <td>Part Three</td>\n    </tr>\n    <tr>\n      <th>4</th>\n      <td>Part Three</td>\n    </tr>\n  </tbody>\n</table>\n</div>"
     },
     "execution_count": 73,
     "metadata": {},
     "output_type": "execute_result"
    }
   ],
   "source": [
    "cat_temp_data1 = data[['UCR_PART']]\n",
    "cat_temp_data1.head()"
   ],
   "metadata": {
    "collapsed": false,
    "pycharm": {
     "name": "#%%\n"
    }
   }
  },
  {
   "cell_type": "code",
   "execution_count": 74,
   "outputs": [
    {
     "data": {
      "text/plain": "array(['Part Three', 'Part Two', 'Part One', 'Other', nan], dtype=object)"
     },
     "execution_count": 74,
     "metadata": {},
     "output_type": "execute_result"
    }
   ],
   "source": [
    "cat_temp_data1['UCR_PART'].unique()"
   ],
   "metadata": {
    "collapsed": false,
    "pycharm": {
     "name": "#%%\n"
    }
   }
  },
  {
   "cell_type": "code",
   "execution_count": 75,
   "outputs": [
    {
     "data": {
      "text/plain": "array([['Part Three'],\n       ['Part Two'],\n       ['Part Two'],\n       ...,\n       ['Part Three'],\n       ['Part Three'],\n       ['Part Three']], dtype=object)"
     },
     "execution_count": 75,
     "metadata": {},
     "output_type": "execute_result"
    }
   ],
   "source": [
    "imp4 = SimpleImputer(missing_values=np.nan, strategy='most_frequent')\n",
    "data_imp4 = imp4.fit_transform(cat_temp_data1)\n",
    "data_imp4"
   ],
   "metadata": {
    "collapsed": false,
    "pycharm": {
     "name": "#%%\n"
    }
   }
  },
  {
   "cell_type": "code",
   "execution_count": 76,
   "outputs": [
    {
     "data": {
      "text/plain": "array(['Other', 'Part One', 'Part Three', 'Part Two'], dtype=object)"
     },
     "execution_count": 76,
     "metadata": {},
     "output_type": "execute_result"
    }
   ],
   "source": [
    "np.unique(data_imp4)"
   ],
   "metadata": {
    "collapsed": false,
    "pycharm": {
     "name": "#%%\n"
    }
   }
  },
  {
   "cell_type": "code",
   "execution_count": 77,
   "outputs": [
    {
     "data": {
      "text/plain": "           STREET\n0   BLUE HILL AVE\n1        ADAMS ST\n2  OLD COLONY AVE\n3        PEARL ST\n4     DANFORTH ST",
      "text/html": "<div>\n<style scoped>\n    .dataframe tbody tr th:only-of-type {\n        vertical-align: middle;\n    }\n\n    .dataframe tbody tr th {\n        vertical-align: top;\n    }\n\n    .dataframe thead th {\n        text-align: right;\n    }\n</style>\n<table border=\"1\" class=\"dataframe\">\n  <thead>\n    <tr style=\"text-align: right;\">\n      <th></th>\n      <th>STREET</th>\n    </tr>\n  </thead>\n  <tbody>\n    <tr>\n      <th>0</th>\n      <td>BLUE HILL AVE</td>\n    </tr>\n    <tr>\n      <th>1</th>\n      <td>ADAMS ST</td>\n    </tr>\n    <tr>\n      <th>2</th>\n      <td>OLD COLONY AVE</td>\n    </tr>\n    <tr>\n      <th>3</th>\n      <td>PEARL ST</td>\n    </tr>\n    <tr>\n      <th>4</th>\n      <td>DANFORTH ST</td>\n    </tr>\n  </tbody>\n</table>\n</div>"
     },
     "execution_count": 77,
     "metadata": {},
     "output_type": "execute_result"
    }
   ],
   "source": [
    "cat_temp_data2 = data[['STREET']]\n",
    "cat_temp_data2.head()"
   ],
   "metadata": {
    "collapsed": false,
    "pycharm": {
     "name": "#%%\n"
    }
   }
  },
  {
   "cell_type": "code",
   "execution_count": 78,
   "outputs": [
    {
     "data": {
      "text/plain": "array(['BLUE HILL AVE', 'ADAMS ST', 'OLD COLONY AVE', ..., 'BAGNAL ST',\n       'MT PLEASANT AVE', 'SAVIN HILL AV'], dtype=object)"
     },
     "execution_count": 78,
     "metadata": {},
     "output_type": "execute_result"
    }
   ],
   "source": [
    "cat_temp_data2['STREET'].unique()"
   ],
   "metadata": {
    "collapsed": false,
    "pycharm": {
     "name": "#%%\n"
    }
   }
  },
  {
   "cell_type": "code",
   "execution_count": 79,
   "outputs": [
    {
     "data": {
      "text/plain": "array([['BLUE HILL AVE'],\n       ['ADAMS ST'],\n       ['OLD COLONY AVE'],\n       ...,\n       ['RIVER ST'],\n       ['NEW WASHINGTON ST'],\n       ['WASHINGTON ST']], dtype=object)"
     },
     "execution_count": 79,
     "metadata": {},
     "output_type": "execute_result"
    }
   ],
   "source": [
    "imp3 = SimpleImputer(missing_values=np.nan, strategy='constant', fill_value='NA')\n",
    "data_imp3 = imp3.fit_transform(cat_temp_data2)\n",
    "data_imp3"
   ],
   "metadata": {
    "collapsed": false,
    "pycharm": {
     "name": "#%%\n"
    }
   }
  },
  {
   "cell_type": "code",
   "execution_count": 80,
   "outputs": [
    {
     "data": {
      "text/plain": "array([' ALBANY ST ', ' COLUMBUS AVE ', ' COMMONWEALTH AVE ', ...,\n       'ZEIGLER', 'ZEIGLER ST', 'ZELLER ST'], dtype=object)"
     },
     "execution_count": 80,
     "metadata": {},
     "output_type": "execute_result"
    }
   ],
   "source": [
    "np.unique(data_imp3)"
   ],
   "metadata": {
    "collapsed": false,
    "pycharm": {
     "name": "#%%\n"
    }
   }
  },
  {
   "cell_type": "code",
   "execution_count": 81,
   "outputs": [
    {
     "data": {
      "text/plain": "           STREET\n0   BLUE HILL AVE\n1        ADAMS ST\n2  OLD COLONY AVE\n3        PEARL ST\n4     DANFORTH ST",
      "text/html": "<div>\n<style scoped>\n    .dataframe tbody tr th:only-of-type {\n        vertical-align: middle;\n    }\n\n    .dataframe tbody tr th {\n        vertical-align: top;\n    }\n\n    .dataframe thead th {\n        text-align: right;\n    }\n</style>\n<table border=\"1\" class=\"dataframe\">\n  <thead>\n    <tr style=\"text-align: right;\">\n      <th></th>\n      <th>STREET</th>\n    </tr>\n  </thead>\n  <tbody>\n    <tr>\n      <th>0</th>\n      <td>BLUE HILL AVE</td>\n    </tr>\n    <tr>\n      <th>1</th>\n      <td>ADAMS ST</td>\n    </tr>\n    <tr>\n      <th>2</th>\n      <td>OLD COLONY AVE</td>\n    </tr>\n    <tr>\n      <th>3</th>\n      <td>PEARL ST</td>\n    </tr>\n    <tr>\n      <th>4</th>\n      <td>DANFORTH ST</td>\n    </tr>\n  </tbody>\n</table>\n</div>"
     },
     "execution_count": 81,
     "metadata": {},
     "output_type": "execute_result"
    }
   ],
   "source": [
    "cat_temp_data = data[['STREET']]\n",
    "cat_temp_data.head()"
   ],
   "metadata": {
    "collapsed": false,
    "pycharm": {
     "name": "#%%\n"
    }
   }
  },
  {
   "cell_type": "code",
   "execution_count": 82,
   "outputs": [
    {
     "data": {
      "text/plain": "array(['BLUE HILL AVE', 'ADAMS ST', 'OLD COLONY AVE', ..., 'BAGNAL ST',\n       'MT PLEASANT AVE', 'SAVIN HILL AV'], dtype=object)"
     },
     "execution_count": 82,
     "metadata": {},
     "output_type": "execute_result"
    }
   ],
   "source": [
    "cat_temp_data['STREET'].unique()"
   ],
   "metadata": {
    "collapsed": false,
    "pycharm": {
     "name": "#%%\n"
    }
   }
  },
  {
   "cell_type": "code",
   "execution_count": 83,
   "outputs": [
    {
     "data": {
      "text/plain": "  INCIDENT_NUMBER  OFFENSE_CODE    OFFENSE_CODE_GROUP  \\\n0      I182009324          3115    Investigate Person   \n1      I182009319           802        Simple Assault   \n2      I182009313          1402             Vandalism   \n3      I182009311          3410                 Towed   \n4      I182009309          3114  Investigate Property   \n\n        OFFENSE_DESCRIPTION DISTRICT REPORTING_AREA SHOOTING  \\\n0        INVESTIGATE PERSON       B2            321      NaN   \n1  ASSAULT SIMPLE - BATTERY      C11            354      NaN   \n2                 VANDALISM       C6            914      NaN   \n3       TOWED MOTOR VEHICLE      C11            247      NaN   \n4      INVESTIGATE PROPERTY      E13            638      NaN   \n\n      OCCURRED_ON_DATE  YEAR  MONTH DAY_OF_WEEK  HOUR    UCR_PART  \\\n0  2018-02-04 20:32:00  2018      2      Sunday    20  Part Three   \n1  2018-02-04 21:31:00  2018      2      Sunday    21    Part Two   \n2  2018-02-04 20:44:00  2018      2      Sunday    20    Part Two   \n3  2018-02-04 16:40:00  2018      2      Sunday    16  Part Three   \n4  2018-02-04 20:51:16  2018      2      Sunday    20  Part Three   \n\n           STREET        Lat       Long                     Location  \n0   BLUE HILL AVE  42.309525 -71.082618  (42.30952511, -71.08261838)  \n1        ADAMS ST  42.298077 -71.056952  (42.29807739, -71.05695195)  \n2  OLD COLONY AVE  42.324226 -71.052426  (42.32422562, -71.05242608)  \n3        PEARL ST  42.314935 -71.058349  (42.31493506, -71.05834852)  \n4     DANFORTH ST  42.317552 -71.105345  (42.31755171, -71.10534530)  ",
      "text/html": "<div>\n<style scoped>\n    .dataframe tbody tr th:only-of-type {\n        vertical-align: middle;\n    }\n\n    .dataframe tbody tr th {\n        vertical-align: top;\n    }\n\n    .dataframe thead th {\n        text-align: right;\n    }\n</style>\n<table border=\"1\" class=\"dataframe\">\n  <thead>\n    <tr style=\"text-align: right;\">\n      <th></th>\n      <th>INCIDENT_NUMBER</th>\n      <th>OFFENSE_CODE</th>\n      <th>OFFENSE_CODE_GROUP</th>\n      <th>OFFENSE_DESCRIPTION</th>\n      <th>DISTRICT</th>\n      <th>REPORTING_AREA</th>\n      <th>SHOOTING</th>\n      <th>OCCURRED_ON_DATE</th>\n      <th>YEAR</th>\n      <th>MONTH</th>\n      <th>DAY_OF_WEEK</th>\n      <th>HOUR</th>\n      <th>UCR_PART</th>\n      <th>STREET</th>\n      <th>Lat</th>\n      <th>Long</th>\n      <th>Location</th>\n    </tr>\n  </thead>\n  <tbody>\n    <tr>\n      <th>0</th>\n      <td>I182009324</td>\n      <td>3115</td>\n      <td>Investigate Person</td>\n      <td>INVESTIGATE PERSON</td>\n      <td>B2</td>\n      <td>321</td>\n      <td>NaN</td>\n      <td>2018-02-04 20:32:00</td>\n      <td>2018</td>\n      <td>2</td>\n      <td>Sunday</td>\n      <td>20</td>\n      <td>Part Three</td>\n      <td>BLUE HILL AVE</td>\n      <td>42.309525</td>\n      <td>-71.082618</td>\n      <td>(42.30952511, -71.08261838)</td>\n    </tr>\n    <tr>\n      <th>1</th>\n      <td>I182009319</td>\n      <td>802</td>\n      <td>Simple Assault</td>\n      <td>ASSAULT SIMPLE - BATTERY</td>\n      <td>C11</td>\n      <td>354</td>\n      <td>NaN</td>\n      <td>2018-02-04 21:31:00</td>\n      <td>2018</td>\n      <td>2</td>\n      <td>Sunday</td>\n      <td>21</td>\n      <td>Part Two</td>\n      <td>ADAMS ST</td>\n      <td>42.298077</td>\n      <td>-71.056952</td>\n      <td>(42.29807739, -71.05695195)</td>\n    </tr>\n    <tr>\n      <th>2</th>\n      <td>I182009313</td>\n      <td>1402</td>\n      <td>Vandalism</td>\n      <td>VANDALISM</td>\n      <td>C6</td>\n      <td>914</td>\n      <td>NaN</td>\n      <td>2018-02-04 20:44:00</td>\n      <td>2018</td>\n      <td>2</td>\n      <td>Sunday</td>\n      <td>20</td>\n      <td>Part Two</td>\n      <td>OLD COLONY AVE</td>\n      <td>42.324226</td>\n      <td>-71.052426</td>\n      <td>(42.32422562, -71.05242608)</td>\n    </tr>\n    <tr>\n      <th>3</th>\n      <td>I182009311</td>\n      <td>3410</td>\n      <td>Towed</td>\n      <td>TOWED MOTOR VEHICLE</td>\n      <td>C11</td>\n      <td>247</td>\n      <td>NaN</td>\n      <td>2018-02-04 16:40:00</td>\n      <td>2018</td>\n      <td>2</td>\n      <td>Sunday</td>\n      <td>16</td>\n      <td>Part Three</td>\n      <td>PEARL ST</td>\n      <td>42.314935</td>\n      <td>-71.058349</td>\n      <td>(42.31493506, -71.05834852)</td>\n    </tr>\n    <tr>\n      <th>4</th>\n      <td>I182009309</td>\n      <td>3114</td>\n      <td>Investigate Property</td>\n      <td>INVESTIGATE PROPERTY</td>\n      <td>E13</td>\n      <td>638</td>\n      <td>NaN</td>\n      <td>2018-02-04 20:51:16</td>\n      <td>2018</td>\n      <td>2</td>\n      <td>Sunday</td>\n      <td>20</td>\n      <td>Part Three</td>\n      <td>DANFORTH ST</td>\n      <td>42.317552</td>\n      <td>-71.105345</td>\n      <td>(42.31755171, -71.10534530)</td>\n    </tr>\n  </tbody>\n</table>\n</div>"
     },
     "execution_count": 83,
     "metadata": {},
     "output_type": "execute_result"
    }
   ],
   "source": [
    "data.head()"
   ],
   "metadata": {
    "collapsed": false,
    "pycharm": {
     "name": "#%%\n"
    }
   }
  },
  {
   "cell_type": "code",
   "execution_count": 84,
   "outputs": [
    {
     "data": {
      "text/plain": "       DISTRICT\n0            B2\n1           C11\n2            C6\n3           C11\n4           E13\n...         ...\n260498       D4\n260499      E18\n260500      E18\n260501      E13\n260502       D4\n\n[260503 rows x 1 columns]",
      "text/html": "<div>\n<style scoped>\n    .dataframe tbody tr th:only-of-type {\n        vertical-align: middle;\n    }\n\n    .dataframe tbody tr th {\n        vertical-align: top;\n    }\n\n    .dataframe thead th {\n        text-align: right;\n    }\n</style>\n<table border=\"1\" class=\"dataframe\">\n  <thead>\n    <tr style=\"text-align: right;\">\n      <th></th>\n      <th>DISTRICT</th>\n    </tr>\n  </thead>\n  <tbody>\n    <tr>\n      <th>0</th>\n      <td>B2</td>\n    </tr>\n    <tr>\n      <th>1</th>\n      <td>C11</td>\n    </tr>\n    <tr>\n      <th>2</th>\n      <td>C6</td>\n    </tr>\n    <tr>\n      <th>3</th>\n      <td>C11</td>\n    </tr>\n    <tr>\n      <th>4</th>\n      <td>E13</td>\n    </tr>\n    <tr>\n      <th>...</th>\n      <td>...</td>\n    </tr>\n    <tr>\n      <th>260498</th>\n      <td>D4</td>\n    </tr>\n    <tr>\n      <th>260499</th>\n      <td>E18</td>\n    </tr>\n    <tr>\n      <th>260500</th>\n      <td>E18</td>\n    </tr>\n    <tr>\n      <th>260501</th>\n      <td>E13</td>\n    </tr>\n    <tr>\n      <th>260502</th>\n      <td>D4</td>\n    </tr>\n  </tbody>\n</table>\n<p>260503 rows × 1 columns</p>\n</div>"
     },
     "execution_count": 84,
     "metadata": {},
     "output_type": "execute_result"
    }
   ],
   "source": [
    "cat_enc = pd.DataFrame({'DISTRICT':data_imp2.T[0]})\n",
    "cat_enc"
   ],
   "metadata": {
    "collapsed": false,
    "pycharm": {
     "name": "#%%\n"
    }
   }
  },
  {
   "cell_type": "code",
   "execution_count": 85,
   "outputs": [
    {
     "data": {
      "text/plain": "array(['B2', 'C11', 'C6', 'E13', 'B3', 'A7', 'A1', 'E18', 'D4', 'D14',\n       'E5', 'A15'], dtype=object)"
     },
     "execution_count": 85,
     "metadata": {},
     "output_type": "execute_result"
    }
   ],
   "source": [
    "cat_enc['DISTRICT'].unique()"
   ],
   "metadata": {
    "collapsed": false,
    "pycharm": {
     "name": "#%%\n"
    }
   }
  },
  {
   "cell_type": "code",
   "execution_count": 86,
   "outputs": [],
   "source": [
    "le = LabelEncoder()\n",
    "cat_enc_le = le.fit_transform(cat_enc['DISTRICT'])"
   ],
   "metadata": {
    "collapsed": false,
    "pycharm": {
     "name": "#%%\n"
    }
   }
  },
  {
   "cell_type": "code",
   "execution_count": 87,
   "outputs": [
    {
     "data": {
      "text/plain": "array(['A1', 'A15', 'A7', 'B2', 'B3', 'C11', 'C6', 'D14', 'D4', 'E13',\n       'E18', 'E5'], dtype=object)"
     },
     "execution_count": 87,
     "metadata": {},
     "output_type": "execute_result"
    }
   ],
   "source": [
    "# Наименования категорий в соответствии с порядковыми номерами\n",
    "\n",
    "# Свойство называется classes, потому что предполагается что мы решаем \n",
    "# задачу классификации и каждое значение категории соответствует \n",
    "# какому-либо классу целевого признака\n",
    "\n",
    "le.classes_"
   ],
   "metadata": {
    "collapsed": false,
    "pycharm": {
     "name": "#%%\n"
    }
   }
  },
  {
   "cell_type": "code",
   "execution_count": 88,
   "outputs": [
    {
     "data": {
      "text/plain": "array([ 3,  5,  6, ..., 10,  9,  8])"
     },
     "execution_count": 88,
     "metadata": {},
     "output_type": "execute_result"
    }
   ],
   "source": [
    "cat_enc_le"
   ],
   "metadata": {
    "collapsed": false,
    "pycharm": {
     "name": "#%%\n"
    }
   }
  },
  {
   "cell_type": "code",
   "execution_count": 89,
   "outputs": [
    {
     "data": {
      "text/plain": "array([ 0,  1,  2,  3,  4,  5,  6,  7,  8,  9, 10, 11])"
     },
     "execution_count": 89,
     "metadata": {},
     "output_type": "execute_result"
    }
   ],
   "source": [
    "np.unique(cat_enc_le)"
   ],
   "metadata": {
    "collapsed": false,
    "pycharm": {
     "name": "#%%\n"
    }
   }
  },
  {
   "cell_type": "code",
   "execution_count": 90,
   "outputs": [
    {
     "data": {
      "text/plain": "array(['A1', 'A15', 'A7', 'B2', 'B3', 'C11', 'C6', 'D14', 'D4', 'E13',\n       'E18', 'E5'], dtype=object)"
     },
     "execution_count": 90,
     "metadata": {},
     "output_type": "execute_result"
    }
   ],
   "source": [
    "le.inverse_transform([0, 1, 2, 3, 4, 5, 6, 7, 8, 9, 10, 11])"
   ],
   "metadata": {
    "collapsed": false,
    "pycharm": {
     "name": "#%%\n"
    }
   }
  },
  {
   "cell_type": "code",
   "execution_count": 91,
   "outputs": [
    {
     "data": {
      "text/plain": "     UCR_PART          STREET\n0  Part Three   BLUE HILL AVE\n1    Part Two        ADAMS ST\n2    Part Two  OLD COLONY AVE\n3  Part Three        PEARL ST\n4  Part Three     DANFORTH ST",
      "text/html": "<div>\n<style scoped>\n    .dataframe tbody tr th:only-of-type {\n        vertical-align: middle;\n    }\n\n    .dataframe tbody tr th {\n        vertical-align: top;\n    }\n\n    .dataframe thead th {\n        text-align: right;\n    }\n</style>\n<table border=\"1\" class=\"dataframe\">\n  <thead>\n    <tr style=\"text-align: right;\">\n      <th></th>\n      <th>UCR_PART</th>\n      <th>STREET</th>\n    </tr>\n  </thead>\n  <tbody>\n    <tr>\n      <th>0</th>\n      <td>Part Three</td>\n      <td>BLUE HILL AVE</td>\n    </tr>\n    <tr>\n      <th>1</th>\n      <td>Part Two</td>\n      <td>ADAMS ST</td>\n    </tr>\n    <tr>\n      <th>2</th>\n      <td>Part Two</td>\n      <td>OLD COLONY AVE</td>\n    </tr>\n    <tr>\n      <th>3</th>\n      <td>Part Three</td>\n      <td>PEARL ST</td>\n    </tr>\n    <tr>\n      <th>4</th>\n      <td>Part Three</td>\n      <td>DANFORTH ST</td>\n    </tr>\n  </tbody>\n</table>\n</div>"
     },
     "execution_count": 91,
     "metadata": {},
     "output_type": "execute_result"
    }
   ],
   "source": [
    "data_oe = data[['UCR_PART', 'STREET']]\n",
    "data_oe.head()"
   ],
   "metadata": {
    "collapsed": false,
    "pycharm": {
     "name": "#%%\n"
    }
   }
  },
  {
   "cell_type": "code",
   "execution_count": 92,
   "outputs": [
    {
     "data": {
      "text/plain": "array([['Part Three', 'BLUE HILL AVE'],\n       ['Part Two', 'ADAMS ST'],\n       ['Part Two', 'OLD COLONY AVE'],\n       ...,\n       ['Part Three', 'RIVER ST'],\n       ['Part Three', 'NEW WASHINGTON ST'],\n       ['Part Three', 'WASHINGTON ST']], dtype=object)"
     },
     "execution_count": 92,
     "metadata": {},
     "output_type": "execute_result"
    }
   ],
   "source": [
    "imp5 = SimpleImputer(missing_values=np.nan, strategy='constant', fill_value='NA')\n",
    "data_oe_filled = imp5.fit_transform(data_oe)\n",
    "data_oe_filled"
   ],
   "metadata": {
    "collapsed": false,
    "pycharm": {
     "name": "#%%\n"
    }
   }
  },
  {
   "cell_type": "code",
   "execution_count": 93,
   "outputs": [
    {
     "data": {
      "text/plain": "array([[3.000e+00, 4.700e+02],\n       [4.000e+00, 5.900e+01],\n       [4.000e+00, 3.040e+03],\n       ...,\n       [3.000e+00, 3.417e+03],\n       [3.000e+00, 2.934e+03],\n       [3.000e+00, 4.214e+03]])"
     },
     "execution_count": 93,
     "metadata": {},
     "output_type": "execute_result"
    }
   ],
   "source": [
    "oe = OrdinalEncoder()\n",
    "cat_enc_oe = oe.fit_transform(data_oe_filled)\n",
    "cat_enc_oe"
   ],
   "metadata": {
    "collapsed": false,
    "pycharm": {
     "name": "#%%\n"
    }
   }
  },
  {
   "cell_type": "code",
   "execution_count": 94,
   "outputs": [
    {
     "data": {
      "text/plain": "array([0., 1., 2., 3., 4.])"
     },
     "execution_count": 94,
     "metadata": {},
     "output_type": "execute_result"
    }
   ],
   "source": [
    "# Уникальные значения 1 признака\n",
    "np.unique(cat_enc_oe[:, 0])"
   ],
   "metadata": {
    "collapsed": false,
    "pycharm": {
     "name": "#%%\n"
    }
   }
  },
  {
   "cell_type": "code",
   "execution_count": 95,
   "outputs": [
    {
     "data": {
      "text/plain": "array([0.000e+00, 1.000e+00, 2.000e+00, ..., 4.467e+03, 4.468e+03,\n       4.469e+03])"
     },
     "execution_count": 95,
     "metadata": {},
     "output_type": "execute_result"
    }
   ],
   "source": [
    "# Уникальные значения 2 признака\n",
    "np.unique(cat_enc_oe[:, 1])"
   ],
   "metadata": {
    "collapsed": false,
    "pycharm": {
     "name": "#%%\n"
    }
   }
  },
  {
   "cell_type": "code",
   "execution_count": 96,
   "outputs": [],
   "source": [
    "sc1 = MinMaxScaler()\n",
    "sc1_data = sc1.fit_transform(data[['MONTH']])"
   ],
   "metadata": {
    "collapsed": false,
    "pycharm": {
     "name": "#%%\n"
    }
   }
  },
  {
   "cell_type": "code",
   "execution_count": 97,
   "outputs": [
    {
     "data": {
      "text/plain": "<Figure size 432x288 with 1 Axes>",
      "image/png": "[encoded data removed]"
     },
     "metadata": {},
     "output_type": "display_data"
    }
   ],
   "source": [
    "plt.hist(data['MONTH'], 20)\n",
    "plt.show()"
   ],
   "metadata": {
    "collapsed": false,
    "pycharm": {
     "name": "#%%\n"
    }
   }
  },
  {
   "cell_type": "code",
   "execution_count": 98,
   "outputs": [
    {
     "data": {
      "text/plain": "<Figure size 432x288 with 1 Axes>",
      "image/png": "[encoded data removed]"
     },
     "metadata": {},
     "output_type": "display_data"
    }
   ],
   "source": [
    "plt.hist(sc1_data, 20)\n",
    "plt.show()"
   ],
   "metadata": {
    "collapsed": false,
    "pycharm": {
     "name": "#%%\n"
    }
   }
  },
  {
   "cell_type": "code",
   "execution_count": 99,
   "outputs": [],
   "source": [
    "sc2 = StandardScaler()\n",
    "sc2_data = sc2.fit_transform(data[['MONTH']])"
   ],
   "metadata": {
    "collapsed": false,
    "pycharm": {
     "name": "#%%\n"
    }
   }
  },
  {
   "cell_type": "code",
   "execution_count": 100,
   "outputs": [
    {
     "data": {
      "text/plain": "<Figure size 432x288 with 1 Axes>",
      "image/png": "[encoded data removed]"
     },
     "metadata": {},
     "output_type": "display_data"
    }
   ],
   "source": [
    "plt.hist(sc2_data, 20)\n",
    "plt.show()"
   ],
   "metadata": {
    "collapsed": false,
    "pycharm": {
     "name": "#%%\n"
    }
   }
  },
  {
   "cell_type": "code",
   "source": [
    "cat_temp_data['STREET'].unique()"
   ],
   "execution_count": 37,
   "outputs": [
    {
     "data": {
      "text/html": []
     },
     "metadata": {},
     "output_type": "display_data"
    }
   ],
   "metadata": {
    "datalore": {
     "type": "CODE",
     "hide_input_from_viewers": false,
     "hide_output_from_viewers": false
    }
   }
  },
  {
   "cell_type": "code",
   "source": [
    "data.head()"
   ],
   "execution_count": 38,
   "outputs": [
    {
     "data": {
      "text/html": [
       "<div>\n",
       "<style scoped>\n",
       "    .dataframe tbody tr th:only-of-type {\n",
       "        vertical-align: middle;\n",
       "    }\n",
       "\n",
       "    .dataframe tbody tr th {\n",
       "        vertical-align: top;\n",
       "    }\n",
       "\n",
       "    .dataframe thead th {\n",
       "        text-align: right;\n",
       "    }\n",
       "</style>\n",
       "<table border=\"1\" class=\"dataframe\">\n",
       "  <thead>\n",
       "    <tr style=\"text-align: right;\">\n",
       "      <th></th>\n",
       "      <th>INCIDENT_NUMBER</th>\n",
       "      <th>OFFENSE_CODE</th>\n",
       "      <th>OFFENSE_CODE_GROUP</th>\n",
       "      <th>OFFENSE_DESCRIPTION</th>\n",
       "      <th>DISTRICT</th>\n",
       "      <th>REPORTING_AREA</th>\n",
       "      <th>SHOOTING</th>\n",
       "      <th>OCCURRED_ON_DATE</th>\n",
       "      <th>YEAR</th>\n",
       "      <th>MONTH</th>\n",
       "      <th>DAY_OF_WEEK</th>\n",
       "      <th>HOUR</th>\n",
       "      <th>UCR_PART</th>\n",
       "      <th>STREET</th>\n",
       "      <th>Lat</th>\n",
       "      <th>Long</th>\n",
       "      <th>Location</th>\n",
       "    </tr>\n",
       "  </thead>\n",
       "  <tbody>\n",
       "    <tr>\n",
       "      <th>0</th>\n",
       "      <td>I182070945</td>\n",
       "      <td>619</td>\n",
       "      <td>Larceny</td>\n",
       "      <td>LARCENY ALL OTHERS</td>\n",
       "      <td>D14</td>\n",
       "      <td>808</td>\n",
       "      <td>NaN</td>\n",
       "      <td>2018-09-02 13:00:00</td>\n",
       "      <td>2018</td>\n",
       "      <td>9</td>\n",
       "      <td>Sunday</td>\n",
       "      <td>13</td>\n",
       "      <td>Part One</td>\n",
       "      <td>LINCOLN ST</td>\n",
       "      <td>42.357791</td>\n",
       "      <td>-71.139371</td>\n",
       "      <td>(42.35779134, -71.13937053)</td>\n",
       "    </tr>\n",
       "    <tr>\n",
       "      <th>1</th>\n",
       "      <td>I182070943</td>\n",
       "      <td>1402</td>\n",
       "      <td>Vandalism</td>\n",
       "      <td>VANDALISM</td>\n",
       "      <td>C11</td>\n",
       "      <td>347</td>\n",
       "      <td>NaN</td>\n",
       "      <td>2018-08-21 00:00:00</td>\n",
       "      <td>2018</td>\n",
       "      <td>8</td>\n",
       "      <td>Tuesday</td>\n",
       "      <td>0</td>\n",
       "      <td>Part Two</td>\n",
       "      <td>HECLA ST</td>\n",
       "      <td>42.306821</td>\n",
       "      <td>-71.060300</td>\n",
       "      <td>(42.30682138, -71.06030035)</td>\n",
       "    </tr>\n",
       "    <tr>\n",
       "      <th>2</th>\n",
       "      <td>I182070941</td>\n",
       "      <td>3410</td>\n",
       "      <td>Towed</td>\n",
       "      <td>TOWED MOTOR VEHICLE</td>\n",
       "      <td>D4</td>\n",
       "      <td>151</td>\n",
       "      <td>NaN</td>\n",
       "      <td>2018-09-03 19:27:00</td>\n",
       "      <td>2018</td>\n",
       "      <td>9</td>\n",
       "      <td>Monday</td>\n",
       "      <td>19</td>\n",
       "      <td>Part Three</td>\n",
       "      <td>CAZENOVE ST</td>\n",
       "      <td>42.346589</td>\n",
       "      <td>-71.072429</td>\n",
       "      <td>(42.34658879, -71.07242943)</td>\n",
       "    </tr>\n",
       "    <tr>\n",
       "      <th>3</th>\n",
       "      <td>I182070940</td>\n",
       "      <td>3114</td>\n",
       "      <td>Investigate Property</td>\n",
       "      <td>INVESTIGATE PROPERTY</td>\n",
       "      <td>D4</td>\n",
       "      <td>272</td>\n",
       "      <td>NaN</td>\n",
       "      <td>2018-09-03 21:16:00</td>\n",
       "      <td>2018</td>\n",
       "      <td>9</td>\n",
       "      <td>Monday</td>\n",
       "      <td>21</td>\n",
       "      <td>Part Three</td>\n",
       "      <td>NEWCOMB ST</td>\n",
       "      <td>42.334182</td>\n",
       "      <td>-71.078664</td>\n",
       "      <td>(42.33418175, -71.07866441)</td>\n",
       "    </tr>\n",
       "    <tr>\n",
       "      <th>4</th>\n",
       "      <td>I182070938</td>\n",
       "      <td>3114</td>\n",
       "      <td>Investigate Property</td>\n",
       "      <td>INVESTIGATE PROPERTY</td>\n",
       "      <td>B3</td>\n",
       "      <td>421</td>\n",
       "      <td>NaN</td>\n",
       "      <td>2018-09-03 21:05:00</td>\n",
       "      <td>2018</td>\n",
       "      <td>9</td>\n",
       "      <td>Monday</td>\n",
       "      <td>21</td>\n",
       "      <td>Part Three</td>\n",
       "      <td>DELHI ST</td>\n",
       "      <td>42.275365</td>\n",
       "      <td>-71.090361</td>\n",
       "      <td>(42.27536542, -71.09036101)</td>\n",
       "    </tr>\n",
       "  </tbody>\n",
       "</table>\n",
       "</div>"
      ]
     },
     "metadata": {},
     "output_type": "display_data"
    }
   ],
   "metadata": {
    "datalore": {
     "type": "CODE",
     "hide_input_from_viewers": false,
     "hide_output_from_viewers": false
    }
   }
  },
  {
   "cell_type": "code",
   "source": [
    "cat_enc = pd.DataFrame({'DISTRICT':data_imp2.T[0]})\n",
    "cat_enc"
   ],
   "execution_count": 50,
   "outputs": [
    {
     "data": {
      "text/html": [
       "<div>\n",
       "<style scoped>\n",
       "    .dataframe tbody tr th:only-of-type {\n",
       "        vertical-align: middle;\n",
       "    }\n",
       "\n",
       "    .dataframe tbody tr th {\n",
       "        vertical-align: top;\n",
       "    }\n",
       "\n",
       "    .dataframe thead th {\n",
       "        text-align: right;\n",
       "    }\n",
       "</style>\n",
       "<table border=\"1\" class=\"dataframe\">\n",
       "  <thead>\n",
       "    <tr style=\"text-align: right;\">\n",
       "      <th></th>\n",
       "      <th>DISTRICT</th>\n",
       "    </tr>\n",
       "  </thead>\n",
       "  <tbody>\n",
       "    <tr>\n",
       "      <th>0</th>\n",
       "      <td>D14</td>\n",
       "    </tr>\n",
       "    <tr>\n",
       "      <th>1</th>\n",
       "      <td>C11</td>\n",
       "    </tr>\n",
       "    <tr>\n",
       "      <th>2</th>\n",
       "      <td>D4</td>\n",
       "    </tr>\n",
       "    <tr>\n",
       "      <th>3</th>\n",
       "      <td>D4</td>\n",
       "    </tr>\n",
       "    <tr>\n",
       "      <th>4</th>\n",
       "      <td>B3</td>\n",
       "    </tr>\n",
       "    <tr>\n",
       "      <th>...</th>\n",
       "      <td>...</td>\n",
       "    </tr>\n",
       "    <tr>\n",
       "      <th>319068</th>\n",
       "      <td>D4</td>\n",
       "    </tr>\n",
       "    <tr>\n",
       "      <th>319069</th>\n",
       "      <td>E18</td>\n",
       "    </tr>\n",
       "    <tr>\n",
       "      <th>319070</th>\n",
       "      <td>E18</td>\n",
       "    </tr>\n",
       "    <tr>\n",
       "      <th>319071</th>\n",
       "      <td>E13</td>\n",
       "    </tr>\n",
       "    <tr>\n",
       "      <th>319072</th>\n",
       "      <td>D4</td>\n",
       "    </tr>\n",
       "  </tbody>\n",
       "</table>\n",
       "<p>319073 rows × 1 columns</p>\n",
       "</div>"
      ]
     },
     "metadata": {},
     "output_type": "display_data"
    }
   ],
   "metadata": {
    "datalore": {
     "type": "CODE",
     "hide_input_from_viewers": false,
     "hide_output_from_viewers": false
    }
   }
  },
  {
   "cell_type": "code",
   "source": [
    "cat_enc['DISTRICT'].unique()"
   ],
   "execution_count": 51,
   "outputs": [
    {
     "data": {
      "text/html": []
     },
     "metadata": {},
     "output_type": "display_data"
    }
   ],
   "metadata": {
    "datalore": {
     "type": "CODE",
     "hide_input_from_viewers": false,
     "hide_output_from_viewers": false
    }
   }
  },
  {
   "cell_type": "code",
   "source": [
    "le = LabelEncoder()\n",
    "cat_enc_le = le.fit_transform(cat_enc['DISTRICT'])"
   ],
   "execution_count": 52,
   "outputs": [],
   "metadata": {
    "datalore": {
     "type": "CODE",
     "hide_input_from_viewers": false,
     "hide_output_from_viewers": false
    }
   }
  },
  {
   "cell_type": "code",
   "source": [
    "# Наименования категорий в соответствии с порядковыми номерами\n",
    "\n",
    "# Свойство называется classes, потому что предполагается что мы решаем \n",
    "# задачу классификации и каждое значение категории соответствует \n",
    "# какому-либо классу целевого признака\n",
    "\n",
    "le.classes_"
   ],
   "execution_count": 53,
   "outputs": [
    {
     "data": {
      "text/html": []
     },
     "metadata": {},
     "output_type": "display_data"
    }
   ],
   "metadata": {
    "datalore": {
     "type": "CODE",
     "hide_input_from_viewers": false,
     "hide_output_from_viewers": false
    }
   }
  },
  {
   "cell_type": "code",
   "source": [
    "cat_enc_le"
   ],
   "execution_count": 54,
   "outputs": [
    {
     "data": {
      "text/html": []
     },
     "metadata": {},
     "output_type": "display_data"
    }
   ],
   "metadata": {
    "datalore": {
     "type": "CODE",
     "hide_input_from_viewers": false,
     "hide_output_from_viewers": false
    }
   }
  },
  {
   "cell_type": "code",
   "source": [
    "np.unique(cat_enc_le)"
   ],
   "execution_count": 55,
   "outputs": [
    {
     "data": {
      "text/html": []
     },
     "metadata": {},
     "output_type": "display_data"
    }
   ],
   "metadata": {
    "datalore": {
     "type": "CODE",
     "hide_input_from_viewers": false,
     "hide_output_from_viewers": false
    }
   }
  },
  {
   "cell_type": "code",
   "source": [
    "le.inverse_transform([0, 1, 2, 3, 4, 5, 6, 7, 8, 9, 10, 11])"
   ],
   "execution_count": 56,
   "outputs": [
    {
     "data": {
      "text/html": []
     },
     "metadata": {},
     "output_type": "display_data"
    }
   ],
   "metadata": {
    "datalore": {
     "type": "CODE",
     "hide_input_from_viewers": false,
     "hide_output_from_viewers": false
    }
   }
  },
  {
   "cell_type": "code",
   "source": [
    "data_oe = data[['UCR_PART', 'STREET']]\n",
    "data_oe.head()"
   ],
   "execution_count": 57,
   "outputs": [
    {
     "data": {
      "text/html": [
       "<div>\n",
       "<style scoped>\n",
       "    .dataframe tbody tr th:only-of-type {\n",
       "        vertical-align: middle;\n",
       "    }\n",
       "\n",
       "    .dataframe tbody tr th {\n",
       "        vertical-align: top;\n",
       "    }\n",
       "\n",
       "    .dataframe thead th {\n",
       "        text-align: right;\n",
       "    }\n",
       "</style>\n",
       "<table border=\"1\" class=\"dataframe\">\n",
       "  <thead>\n",
       "    <tr style=\"text-align: right;\">\n",
       "      <th></th>\n",
       "      <th>UCR_PART</th>\n",
       "      <th>STREET</th>\n",
       "    </tr>\n",
       "  </thead>\n",
       "  <tbody>\n",
       "    <tr>\n",
       "      <th>0</th>\n",
       "      <td>Part One</td>\n",
       "      <td>LINCOLN ST</td>\n",
       "    </tr>\n",
       "    <tr>\n",
       "      <th>1</th>\n",
       "      <td>Part Two</td>\n",
       "      <td>HECLA ST</td>\n",
       "    </tr>\n",
       "    <tr>\n",
       "      <th>2</th>\n",
       "      <td>Part Three</td>\n",
       "      <td>CAZENOVE ST</td>\n",
       "    </tr>\n",
       "    <tr>\n",
       "      <th>3</th>\n",
       "      <td>Part Three</td>\n",
       "      <td>NEWCOMB ST</td>\n",
       "    </tr>\n",
       "    <tr>\n",
       "      <th>4</th>\n",
       "      <td>Part Three</td>\n",
       "      <td>DELHI ST</td>\n",
       "    </tr>\n",
       "  </tbody>\n",
       "</table>\n",
       "</div>"
      ]
     },
     "metadata": {},
     "output_type": "display_data"
    }
   ],
   "metadata": {
    "datalore": {
     "type": "CODE",
     "hide_input_from_viewers": false,
     "hide_output_from_viewers": false
    }
   }
  },
  {
   "cell_type": "code",
   "source": [
    "imp5 = SimpleImputer(missing_values=np.nan, strategy='constant', fill_value='NA')\n",
    "data_oe_filled = imp5.fit_transform(data_oe)\n",
    "data_oe_filled"
   ],
   "execution_count": 58,
   "outputs": [
    {
     "data": {
      "text/html": []
     },
     "metadata": {},
     "output_type": "display_data"
    }
   ],
   "metadata": {
    "datalore": {
     "type": "CODE",
     "hide_input_from_viewers": false,
     "hide_output_from_viewers": false
    }
   }
  },
  {
   "cell_type": "code",
   "source": [
    "oe = OrdinalEncoder()\n",
    "cat_enc_oe = oe.fit_transform(data_oe_filled)\n",
    "cat_enc_oe"
   ],
   "execution_count": 59,
   "outputs": [
    {
     "data": {
      "text/html": []
     },
     "metadata": {},
     "output_type": "display_data"
    }
   ],
   "metadata": {
    "datalore": {
     "type": "CODE",
     "hide_input_from_viewers": false,
     "hide_output_from_viewers": false
    }
   }
  },
  {
   "cell_type": "code",
   "source": [
    "# Уникальные значения 1 признака\n",
    "np.unique(cat_enc_oe[:, 0])"
   ],
   "execution_count": 60,
   "outputs": [
    {
     "data": {
      "text/html": []
     },
     "metadata": {},
     "output_type": "display_data"
    }
   ],
   "metadata": {
    "datalore": {
     "type": "CODE",
     "hide_input_from_viewers": false,
     "hide_output_from_viewers": false
    }
   }
  },
  {
   "cell_type": "code",
   "source": [
    "# Уникальные значения 2 признака\n",
    "np.unique(cat_enc_oe[:, 1])"
   ],
   "execution_count": 61,
   "outputs": [
    {
     "data": {
      "text/html": []
     },
     "metadata": {},
     "output_type": "display_data"
    }
   ],
   "metadata": {
    "datalore": {
     "type": "CODE",
     "hide_input_from_viewers": false,
     "hide_output_from_viewers": false
    }
   }
  },
  {
   "cell_type": "code",
   "source": [
    "sc1 = MinMaxScaler()\n",
    "sc1_data = sc1.fit_transform(data[['MONTH']])"
   ],
   "execution_count": 62,
   "outputs": [],
   "metadata": {
    "datalore": {
     "type": "CODE",
     "hide_input_from_viewers": false,
     "hide_output_from_viewers": false
    }
   }
  },
  {
   "cell_type": "code",
   "source": [
    "plt.hist(data['MONTH'], 20)\n",
    "plt.show()"
   ],
   "execution_count": 63,
   "outputs": [
    {
     "data": {
      "image/png": "[encoded data removed]"
     },
     "metadata": {
      "image/png": {}
     },
     "output_type": "display_data"
    }
   ],
   "metadata": {
    "datalore": {
     "type": "CODE",
     "hide_input_from_viewers": false,
     "hide_output_from_viewers": false
    }
   }
  },
  {
   "cell_type": "code",
   "source": [
    "plt.hist(sc1_data, 20)\n",
    "plt.show()"
   ],
   "execution_count": 64,
   "outputs": [
    {
     "data": {
      "image/png": "[encoded data removed]"
     },
     "metadata": {
      "image/png": {}
     },
     "output_type": "display_data"
    }
   ],
   "metadata": {
    "datalore": {
     "type": "CODE",
     "hide_input_from_viewers": false,
     "hide_output_from_viewers": false
    }
   }
  },
  {
   "cell_type": "code",
   "source": [
    "sc2 = StandardScaler()\n",
    "sc2_data = sc2.fit_transform(data[['MONTH']])"
   ],
   "execution_count": 65,
   "outputs": [],
   "metadata": {
    "datalore": {
     "type": "CODE",
     "hide_input_from_viewers": false,
     "hide_output_from_viewers": false
    }
   }
  },
  {
   "cell_type": "code",
   "source": [
    "plt.hist(sc2_data, 20)\n",
    "plt.show()"
   ],
   "execution_count": 66,
   "outputs": [
    {
     "data": {
      "image/png": "[encoded data removed]"
     },
     "metadata": {
      "image/png": {}
     },
     "output_type": "display_data"
    }
   ],
   "metadata": {
    "datalore": {
     "type": "CODE",
     "hide_input_from_viewers": false,
     "hide_output_from_viewers": false
    }
   }
  }
 ],
 "metadata": {
  "datalore": {
   "version": 1,
   "computation_mode": "JUPYTER",
   "package_manager": "pip",
   "base_environment": "default",
   "packages": []
  }
 },
 "nbformat": 4,
 "nbformat_minor": 4
}