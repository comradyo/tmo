{
 "cells": [
  {
   "cell_type": "markdown",
   "source": [
    "Винников Степан\n",
    "ИУ5-62Б\n",
    "РК№1 Вариант 9"
   ],
   "metadata": {
    "collapsed": false,
    "pycharm": {
     "name": "#%% md\n"
    }
   }
  },
  {
   "cell_type": "code",
   "execution_count": null,
   "outputs": [],
   "source": [
    "# Импорт библиотек\n",
    "\n",
    "import pandas as pd\n",
    "\n",
    "import seaborn as sns\n",
    "import matplotlib.pyplot as plt\n",
    "from sklearn.impute import SimpleImputer\n",
    "%matplotlib inline\n",
    "\n",
    "import numpy as np"
   ],
   "metadata": {
    "collapsed": false,
    "pycharm": {
     "name": "#%%\n"
    }
   }
  },
  {
   "cell_type": "code",
   "execution_count": 33,
   "outputs": [
    {
     "data": {
      "text/plain": "           ID                Name  Age  \\\n0      158023            L. Messi   31   \n1       20801   Cristiano Ronaldo   33   \n2      190871           Neymar Jr   26   \n3      193080              De Gea   27   \n4      192985        K. De Bruyne   27   \n...       ...                 ...  ...   \n18202  238813        J. Lundstram   19   \n18203  243165  N. Christoffersson   19   \n18204  241638           B. Worman   16   \n18205  246268      D. Walker-Rice   17   \n18206  246269           G. Nugent   16   \n\n                                                Photo Nationality  \\\n0      https://cdn.sofifa.org/players/4/19/158023.png   Argentina   \n1       https://cdn.sofifa.org/players/4/19/20801.png    Portugal   \n2      https://cdn.sofifa.org/players/4/19/190871.png      Brazil   \n3      https://cdn.sofifa.org/players/4/19/193080.png       Spain   \n4      https://cdn.sofifa.org/players/4/19/192985.png     Belgium   \n...                                               ...         ...   \n18202  https://cdn.sofifa.org/players/4/19/238813.png     England   \n18203  https://cdn.sofifa.org/players/4/19/243165.png      Sweden   \n18204  https://cdn.sofifa.org/players/4/19/241638.png     England   \n18205  https://cdn.sofifa.org/players/4/19/246268.png     England   \n18206  https://cdn.sofifa.org/players/4/19/246269.png     England   \n\n                                      Flag  Overall  Potential  \\\n0      https://cdn.sofifa.org/flags/52.png       94         94   \n1      https://cdn.sofifa.org/flags/38.png       94         94   \n2      https://cdn.sofifa.org/flags/54.png       92         93   \n3      https://cdn.sofifa.org/flags/45.png       91         93   \n4       https://cdn.sofifa.org/flags/7.png       91         92   \n...                                    ...      ...        ...   \n18202  https://cdn.sofifa.org/flags/14.png       47         65   \n18203  https://cdn.sofifa.org/flags/46.png       47         63   \n18204  https://cdn.sofifa.org/flags/14.png       47         67   \n18205  https://cdn.sofifa.org/flags/14.png       47         66   \n18206  https://cdn.sofifa.org/flags/14.png       46         66   \n\n                      Club                                       Club Logo  \\\n0             FC Barcelona    https://cdn.sofifa.org/teams/2/light/241.png   \n1                 Juventus     https://cdn.sofifa.org/teams/2/light/45.png   \n2      Paris Saint-Germain     https://cdn.sofifa.org/teams/2/light/73.png   \n3        Manchester United     https://cdn.sofifa.org/teams/2/light/11.png   \n4          Manchester City     https://cdn.sofifa.org/teams/2/light/10.png   \n...                    ...                                             ...   \n18202      Crewe Alexandra    https://cdn.sofifa.org/teams/2/light/121.png   \n18203       Trelleborgs FF    https://cdn.sofifa.org/teams/2/light/703.png   \n18204     Cambridge United   https://cdn.sofifa.org/teams/2/light/1944.png   \n18205      Tranmere Rovers  https://cdn.sofifa.org/teams/2/light/15048.png   \n18206      Tranmere Rovers  https://cdn.sofifa.org/teams/2/light/15048.png   \n\n       ... Composure Marking  StandingTackle SlidingTackle  GKDiving  \\\n0      ...      96.0    33.0            28.0          26.0       6.0   \n1      ...      95.0    28.0            31.0          23.0       7.0   \n2      ...      94.0    27.0            24.0          33.0       9.0   \n3      ...      68.0    15.0            21.0          13.0      90.0   \n4      ...      88.0    68.0            58.0          51.0      15.0   \n...    ...       ...     ...             ...           ...       ...   \n18202  ...      45.0    40.0            48.0          47.0      10.0   \n18203  ...      42.0    22.0            15.0          19.0      10.0   \n18204  ...      41.0    32.0            13.0          11.0       6.0   \n18205  ...      46.0    20.0            25.0          27.0      14.0   \n18206  ...      43.0    40.0            43.0          50.0      10.0   \n\n       GKHandling  GKKicking GKPositioning GKReflexes Release Clause  \n0            11.0       15.0          14.0        8.0        €226.5M  \n1            11.0       15.0          14.0       11.0        €127.1M  \n2             9.0       15.0          15.0       11.0        €228.1M  \n3            85.0       87.0          88.0       94.0        €138.6M  \n4            13.0        5.0          10.0       13.0        €196.4M  \n...           ...        ...           ...        ...            ...  \n18202        13.0        7.0           8.0        9.0          €143K  \n18203         9.0        9.0           5.0       12.0          €113K  \n18204         5.0       10.0           6.0       13.0          €165K  \n18205         6.0       14.0           8.0        9.0          €143K  \n18206        15.0        9.0          12.0        9.0          €165K  \n\n[18207 rows x 88 columns]",
      "text/html": "<div>\n<style scoped>\n    .dataframe tbody tr th:only-of-type {\n        vertical-align: middle;\n    }\n\n    .dataframe tbody tr th {\n        vertical-align: top;\n    }\n\n    .dataframe thead th {\n        text-align: right;\n    }\n</style>\n<table border=\"1\" class=\"dataframe\">\n  <thead>\n    <tr style=\"text-align: right;\">\n      <th></th>\n      <th>ID</th>\n      <th>Name</th>\n      <th>Age</th>\n      <th>Photo</th>\n      <th>Nationality</th>\n      <th>Flag</th>\n      <th>Overall</th>\n      <th>Potential</th>\n      <th>Club</th>\n      <th>Club Logo</th>\n      <th>...</th>\n      <th>Composure</th>\n      <th>Marking</th>\n      <th>StandingTackle</th>\n      <th>SlidingTackle</th>\n      <th>GKDiving</th>\n      <th>GKHandling</th>\n      <th>GKKicking</th>\n      <th>GKPositioning</th>\n      <th>GKReflexes</th>\n      <th>Release Clause</th>\n    </tr>\n  </thead>\n  <tbody>\n    <tr>\n      <th>0</th>\n      <td>158023</td>\n      <td>L. Messi</td>\n      <td>31</td>\n      <td>https://cdn.sofifa.org/players/4/19/158023.png</td>\n      <td>Argentina</td>\n      <td>https://cdn.sofifa.org/flags/52.png</td>\n      <td>94</td>\n      <td>94</td>\n      <td>FC Barcelona</td>\n      <td>https://cdn.sofifa.org/teams/2/light/241.png</td>\n      <td>...</td>\n      <td>96.0</td>\n      <td>33.0</td>\n      <td>28.0</td>\n      <td>26.0</td>\n      <td>6.0</td>\n      <td>11.0</td>\n      <td>15.0</td>\n      <td>14.0</td>\n      <td>8.0</td>\n      <td>€226.5M</td>\n    </tr>\n    <tr>\n      <th>1</th>\n      <td>20801</td>\n      <td>Cristiano Ronaldo</td>\n      <td>33</td>\n      <td>https://cdn.sofifa.org/players/4/19/20801.png</td>\n      <td>Portugal</td>\n      <td>https://cdn.sofifa.org/flags/38.png</td>\n      <td>94</td>\n      <td>94</td>\n      <td>Juventus</td>\n      <td>https://cdn.sofifa.org/teams/2/light/45.png</td>\n      <td>...</td>\n      <td>95.0</td>\n      <td>28.0</td>\n      <td>31.0</td>\n      <td>23.0</td>\n      <td>7.0</td>\n      <td>11.0</td>\n      <td>15.0</td>\n      <td>14.0</td>\n      <td>11.0</td>\n      <td>€127.1M</td>\n    </tr>\n    <tr>\n      <th>2</th>\n      <td>190871</td>\n      <td>Neymar Jr</td>\n      <td>26</td>\n      <td>https://cdn.sofifa.org/players/4/19/190871.png</td>\n      <td>Brazil</td>\n      <td>https://cdn.sofifa.org/flags/54.png</td>\n      <td>92</td>\n      <td>93</td>\n      <td>Paris Saint-Germain</td>\n      <td>https://cdn.sofifa.org/teams/2/light/73.png</td>\n      <td>...</td>\n      <td>94.0</td>\n      <td>27.0</td>\n      <td>24.0</td>\n      <td>33.0</td>\n      <td>9.0</td>\n      <td>9.0</td>\n      <td>15.0</td>\n      <td>15.0</td>\n      <td>11.0</td>\n      <td>€228.1M</td>\n    </tr>\n    <tr>\n      <th>3</th>\n      <td>193080</td>\n      <td>De Gea</td>\n      <td>27</td>\n      <td>https://cdn.sofifa.org/players/4/19/193080.png</td>\n      <td>Spain</td>\n      <td>https://cdn.sofifa.org/flags/45.png</td>\n      <td>91</td>\n      <td>93</td>\n      <td>Manchester United</td>\n      <td>https://cdn.sofifa.org/teams/2/light/11.png</td>\n      <td>...</td>\n      <td>68.0</td>\n      <td>15.0</td>\n      <td>21.0</td>\n      <td>13.0</td>\n      <td>90.0</td>\n      <td>85.0</td>\n      <td>87.0</td>\n      <td>88.0</td>\n      <td>94.0</td>\n      <td>€138.6M</td>\n    </tr>\n    <tr>\n      <th>4</th>\n      <td>192985</td>\n      <td>K. De Bruyne</td>\n      <td>27</td>\n      <td>https://cdn.sofifa.org/players/4/19/192985.png</td>\n      <td>Belgium</td>\n      <td>https://cdn.sofifa.org/flags/7.png</td>\n      <td>91</td>\n      <td>92</td>\n      <td>Manchester City</td>\n      <td>https://cdn.sofifa.org/teams/2/light/10.png</td>\n      <td>...</td>\n      <td>88.0</td>\n      <td>68.0</td>\n      <td>58.0</td>\n      <td>51.0</td>\n      <td>15.0</td>\n      <td>13.0</td>\n      <td>5.0</td>\n      <td>10.0</td>\n      <td>13.0</td>\n      <td>€196.4M</td>\n    </tr>\n    <tr>\n      <th>...</th>\n      <td>...</td>\n      <td>...</td>\n      <td>...</td>\n      <td>...</td>\n      <td>...</td>\n      <td>...</td>\n      <td>...</td>\n      <td>...</td>\n      <td>...</td>\n      <td>...</td>\n      <td>...</td>\n      <td>...</td>\n      <td>...</td>\n      <td>...</td>\n      <td>...</td>\n      <td>...</td>\n      <td>...</td>\n      <td>...</td>\n      <td>...</td>\n      <td>...</td>\n      <td>...</td>\n    </tr>\n    <tr>\n      <th>18202</th>\n      <td>238813</td>\n      <td>J. Lundstram</td>\n      <td>19</td>\n      <td>https://cdn.sofifa.org/players/4/19/238813.png</td>\n      <td>England</td>\n      <td>https://cdn.sofifa.org/flags/14.png</td>\n      <td>47</td>\n      <td>65</td>\n      <td>Crewe Alexandra</td>\n      <td>https://cdn.sofifa.org/teams/2/light/121.png</td>\n      <td>...</td>\n      <td>45.0</td>\n      <td>40.0</td>\n      <td>48.0</td>\n      <td>47.0</td>\n      <td>10.0</td>\n      <td>13.0</td>\n      <td>7.0</td>\n      <td>8.0</td>\n      <td>9.0</td>\n      <td>€143K</td>\n    </tr>\n    <tr>\n      <th>18203</th>\n      <td>243165</td>\n      <td>N. Christoffersson</td>\n      <td>19</td>\n      <td>https://cdn.sofifa.org/players/4/19/243165.png</td>\n      <td>Sweden</td>\n      <td>https://cdn.sofifa.org/flags/46.png</td>\n      <td>47</td>\n      <td>63</td>\n      <td>Trelleborgs FF</td>\n      <td>https://cdn.sofifa.org/teams/2/light/703.png</td>\n      <td>...</td>\n      <td>42.0</td>\n      <td>22.0</td>\n      <td>15.0</td>\n      <td>19.0</td>\n      <td>10.0</td>\n      <td>9.0</td>\n      <td>9.0</td>\n      <td>5.0</td>\n      <td>12.0</td>\n      <td>€113K</td>\n    </tr>\n    <tr>\n      <th>18204</th>\n      <td>241638</td>\n      <td>B. Worman</td>\n      <td>16</td>\n      <td>https://cdn.sofifa.org/players/4/19/241638.png</td>\n      <td>England</td>\n      <td>https://cdn.sofifa.org/flags/14.png</td>\n      <td>47</td>\n      <td>67</td>\n      <td>Cambridge United</td>\n      <td>https://cdn.sofifa.org/teams/2/light/1944.png</td>\n      <td>...</td>\n      <td>41.0</td>\n      <td>32.0</td>\n      <td>13.0</td>\n      <td>11.0</td>\n      <td>6.0</td>\n      <td>5.0</td>\n      <td>10.0</td>\n      <td>6.0</td>\n      <td>13.0</td>\n      <td>€165K</td>\n    </tr>\n    <tr>\n      <th>18205</th>\n      <td>246268</td>\n      <td>D. Walker-Rice</td>\n      <td>17</td>\n      <td>https://cdn.sofifa.org/players/4/19/246268.png</td>\n      <td>England</td>\n      <td>https://cdn.sofifa.org/flags/14.png</td>\n      <td>47</td>\n      <td>66</td>\n      <td>Tranmere Rovers</td>\n      <td>https://cdn.sofifa.org/teams/2/light/15048.png</td>\n      <td>...</td>\n      <td>46.0</td>\n      <td>20.0</td>\n      <td>25.0</td>\n      <td>27.0</td>\n      <td>14.0</td>\n      <td>6.0</td>\n      <td>14.0</td>\n      <td>8.0</td>\n      <td>9.0</td>\n      <td>€143K</td>\n    </tr>\n    <tr>\n      <th>18206</th>\n      <td>246269</td>\n      <td>G. Nugent</td>\n      <td>16</td>\n      <td>https://cdn.sofifa.org/players/4/19/246269.png</td>\n      <td>England</td>\n      <td>https://cdn.sofifa.org/flags/14.png</td>\n      <td>46</td>\n      <td>66</td>\n      <td>Tranmere Rovers</td>\n      <td>https://cdn.sofifa.org/teams/2/light/15048.png</td>\n      <td>...</td>\n      <td>43.0</td>\n      <td>40.0</td>\n      <td>43.0</td>\n      <td>50.0</td>\n      <td>10.0</td>\n      <td>15.0</td>\n      <td>9.0</td>\n      <td>12.0</td>\n      <td>9.0</td>\n      <td>€165K</td>\n    </tr>\n  </tbody>\n</table>\n<p>18207 rows × 88 columns</p>\n</div>"
     },
     "execution_count": 33,
     "metadata": {},
     "output_type": "execute_result"
    }
   ],
   "source": [
    "# Загрузка данных\n",
    "data = pd.read_csv(\"fifa.csv\", sep=\",\")\n",
    "data"
   ],
   "metadata": {
    "collapsed": false,
    "pycharm": {
     "name": "#%%\n"
    }
   }
  },
  {
   "cell_type": "code",
   "execution_count": 34,
   "outputs": [],
   "source": [
    "# Переименование полей в стиле SQL\n",
    "data = data.rename(columns={\n",
    "    \"Club Logo\": \"club_logo\",\n",
    "    \"Preferred Foot\": \"preferred_foot\",\n",
    "    \"International Reputation\": \"international_reputation\",\n",
    "    \"Weak Foot\": \"weak_foot\",\n",
    "    \"Skill Moves\": \"skill_moves\",\n",
    "    \"Work Rate\": \"work_rate\",\n",
    "    \"Body Type\": \"body_type\",\n",
    "    \"Real Face\": \"real_face\",\n",
    "    \"Jersey Number\": \"jersey_number\",\n",
    "    \"Loaned From\": \"loaned_from\",\n",
    "    \"Contract Valid Until\": \"contract_valid_until\",\n",
    "    \"Release Clause\": \"release_clause\",\n",
    "})"
   ],
   "metadata": {
    "collapsed": false,
    "pycharm": {
     "name": "#%%\n"
    }
   }
  },
  {
   "cell_type": "code",
   "execution_count": 35,
   "outputs": [
    {
     "data": {
      "text/plain": "                  ID           Age       Overall     Potential       Special  \\\ncount   18207.000000  18207.000000  18207.000000  18207.000000  18207.000000   \nmean   214298.338606     25.122206     66.238699     71.307299   1597.809908   \nstd     29965.244204      4.669943      6.908930      6.136496    272.586016   \nmin        16.000000     16.000000     46.000000     48.000000    731.000000   \n25%    200315.500000     21.000000     62.000000     67.000000   1457.000000   \n50%    221759.000000     25.000000     66.000000     71.000000   1635.000000   \n75%    236529.500000     28.000000     71.000000     75.000000   1787.000000   \nmax    246620.000000     45.000000     94.000000     95.000000   2346.000000   \n\n       international_reputation     weak_foot   skill_moves  jersey_number  \\\ncount              18159.000000  18159.000000  18159.000000   18147.000000   \nmean                   1.113222      2.947299      2.361308      19.546096   \nstd                    0.394031      0.660456      0.756164      15.947765   \nmin                    1.000000      1.000000      1.000000       1.000000   \n25%                    1.000000      3.000000      2.000000       8.000000   \n50%                    1.000000      3.000000      2.000000      17.000000   \n75%                    1.000000      3.000000      3.000000      26.000000   \nmax                    5.000000      5.000000      5.000000      99.000000   \n\n           Crossing  ...     Penalties     Composure       Marking  \\\ncount  18159.000000  ...  18159.000000  18159.000000  18159.000000   \nmean      49.734181  ...     48.548598     58.648274     47.281623   \nstd       18.364524  ...     15.704053     11.436133     19.904397   \nmin        5.000000  ...      5.000000      3.000000      3.000000   \n25%       38.000000  ...     39.000000     51.000000     30.000000   \n50%       54.000000  ...     49.000000     60.000000     53.000000   \n75%       64.000000  ...     60.000000     67.000000     64.000000   \nmax       93.000000  ...     92.000000     96.000000     94.000000   \n\n       StandingTackle  SlidingTackle      GKDiving    GKHandling  \\\ncount    18159.000000   18159.000000  18159.000000  18159.000000   \nmean        47.697836      45.661435     16.616223     16.391596   \nstd         21.664004      21.289135     17.695349     16.906900   \nmin          2.000000       3.000000      1.000000      1.000000   \n25%         27.000000      24.000000      8.000000      8.000000   \n50%         55.000000      52.000000     11.000000     11.000000   \n75%         66.000000      64.000000     14.000000     14.000000   \nmax         93.000000      91.000000     90.000000     92.000000   \n\n          GKKicking  GKPositioning    GKReflexes  \ncount  18159.000000   18159.000000  18159.000000  \nmean      16.232061      16.388898     16.710887  \nstd       16.502864      17.034669     17.955119  \nmin        1.000000       1.000000      1.000000  \n25%        8.000000       8.000000      8.000000  \n50%       11.000000      11.000000     11.000000  \n75%       14.000000      14.000000     14.000000  \nmax       91.000000      90.000000     94.000000  \n\n[8 rows x 43 columns]",
      "text/html": "<div>\n<style scoped>\n    .dataframe tbody tr th:only-of-type {\n        vertical-align: middle;\n    }\n\n    .dataframe tbody tr th {\n        vertical-align: top;\n    }\n\n    .dataframe thead th {\n        text-align: right;\n    }\n</style>\n<table border=\"1\" class=\"dataframe\">\n  <thead>\n    <tr style=\"text-align: right;\">\n      <th></th>\n      <th>ID</th>\n      <th>Age</th>\n      <th>Overall</th>\n      <th>Potential</th>\n      <th>Special</th>\n      <th>international_reputation</th>\n      <th>weak_foot</th>\n      <th>skill_moves</th>\n      <th>jersey_number</th>\n      <th>Crossing</th>\n      <th>...</th>\n      <th>Penalties</th>\n      <th>Composure</th>\n      <th>Marking</th>\n      <th>StandingTackle</th>\n      <th>SlidingTackle</th>\n      <th>GKDiving</th>\n      <th>GKHandling</th>\n      <th>GKKicking</th>\n      <th>GKPositioning</th>\n      <th>GKReflexes</th>\n    </tr>\n  </thead>\n  <tbody>\n    <tr>\n      <th>count</th>\n      <td>18207.000000</td>\n      <td>18207.000000</td>\n      <td>18207.000000</td>\n      <td>18207.000000</td>\n      <td>18207.000000</td>\n      <td>18159.000000</td>\n      <td>18159.000000</td>\n      <td>18159.000000</td>\n      <td>18147.000000</td>\n      <td>18159.000000</td>\n      <td>...</td>\n      <td>18159.000000</td>\n      <td>18159.000000</td>\n      <td>18159.000000</td>\n      <td>18159.000000</td>\n      <td>18159.000000</td>\n      <td>18159.000000</td>\n      <td>18159.000000</td>\n      <td>18159.000000</td>\n      <td>18159.000000</td>\n      <td>18159.000000</td>\n    </tr>\n    <tr>\n      <th>mean</th>\n      <td>214298.338606</td>\n      <td>25.122206</td>\n      <td>66.238699</td>\n      <td>71.307299</td>\n      <td>1597.809908</td>\n      <td>1.113222</td>\n      <td>2.947299</td>\n      <td>2.361308</td>\n      <td>19.546096</td>\n      <td>49.734181</td>\n      <td>...</td>\n      <td>48.548598</td>\n      <td>58.648274</td>\n      <td>47.281623</td>\n      <td>47.697836</td>\n      <td>45.661435</td>\n      <td>16.616223</td>\n      <td>16.391596</td>\n      <td>16.232061</td>\n      <td>16.388898</td>\n      <td>16.710887</td>\n    </tr>\n    <tr>\n      <th>std</th>\n      <td>29965.244204</td>\n      <td>4.669943</td>\n      <td>6.908930</td>\n      <td>6.136496</td>\n      <td>272.586016</td>\n      <td>0.394031</td>\n      <td>0.660456</td>\n      <td>0.756164</td>\n      <td>15.947765</td>\n      <td>18.364524</td>\n      <td>...</td>\n      <td>15.704053</td>\n      <td>11.436133</td>\n      <td>19.904397</td>\n      <td>21.664004</td>\n      <td>21.289135</td>\n      <td>17.695349</td>\n      <td>16.906900</td>\n      <td>16.502864</td>\n      <td>17.034669</td>\n      <td>17.955119</td>\n    </tr>\n    <tr>\n      <th>min</th>\n      <td>16.000000</td>\n      <td>16.000000</td>\n      <td>46.000000</td>\n      <td>48.000000</td>\n      <td>731.000000</td>\n      <td>1.000000</td>\n      <td>1.000000</td>\n      <td>1.000000</td>\n      <td>1.000000</td>\n      <td>5.000000</td>\n      <td>...</td>\n      <td>5.000000</td>\n      <td>3.000000</td>\n      <td>3.000000</td>\n      <td>2.000000</td>\n      <td>3.000000</td>\n      <td>1.000000</td>\n      <td>1.000000</td>\n      <td>1.000000</td>\n      <td>1.000000</td>\n      <td>1.000000</td>\n    </tr>\n    <tr>\n      <th>25%</th>\n      <td>200315.500000</td>\n      <td>21.000000</td>\n      <td>62.000000</td>\n      <td>67.000000</td>\n      <td>1457.000000</td>\n      <td>1.000000</td>\n      <td>3.000000</td>\n      <td>2.000000</td>\n      <td>8.000000</td>\n      <td>38.000000</td>\n      <td>...</td>\n      <td>39.000000</td>\n      <td>51.000000</td>\n      <td>30.000000</td>\n      <td>27.000000</td>\n      <td>24.000000</td>\n      <td>8.000000</td>\n      <td>8.000000</td>\n      <td>8.000000</td>\n      <td>8.000000</td>\n      <td>8.000000</td>\n    </tr>\n    <tr>\n      <th>50%</th>\n      <td>221759.000000</td>\n      <td>25.000000</td>\n      <td>66.000000</td>\n      <td>71.000000</td>\n      <td>1635.000000</td>\n      <td>1.000000</td>\n      <td>3.000000</td>\n      <td>2.000000</td>\n      <td>17.000000</td>\n      <td>54.000000</td>\n      <td>...</td>\n      <td>49.000000</td>\n      <td>60.000000</td>\n      <td>53.000000</td>\n      <td>55.000000</td>\n      <td>52.000000</td>\n      <td>11.000000</td>\n      <td>11.000000</td>\n      <td>11.000000</td>\n      <td>11.000000</td>\n      <td>11.000000</td>\n    </tr>\n    <tr>\n      <th>75%</th>\n      <td>236529.500000</td>\n      <td>28.000000</td>\n      <td>71.000000</td>\n      <td>75.000000</td>\n      <td>1787.000000</td>\n      <td>1.000000</td>\n      <td>3.000000</td>\n      <td>3.000000</td>\n      <td>26.000000</td>\n      <td>64.000000</td>\n      <td>...</td>\n      <td>60.000000</td>\n      <td>67.000000</td>\n      <td>64.000000</td>\n      <td>66.000000</td>\n      <td>64.000000</td>\n      <td>14.000000</td>\n      <td>14.000000</td>\n      <td>14.000000</td>\n      <td>14.000000</td>\n      <td>14.000000</td>\n    </tr>\n    <tr>\n      <th>max</th>\n      <td>246620.000000</td>\n      <td>45.000000</td>\n      <td>94.000000</td>\n      <td>95.000000</td>\n      <td>2346.000000</td>\n      <td>5.000000</td>\n      <td>5.000000</td>\n      <td>5.000000</td>\n      <td>99.000000</td>\n      <td>93.000000</td>\n      <td>...</td>\n      <td>92.000000</td>\n      <td>96.000000</td>\n      <td>94.000000</td>\n      <td>93.000000</td>\n      <td>91.000000</td>\n      <td>90.000000</td>\n      <td>92.000000</td>\n      <td>91.000000</td>\n      <td>90.000000</td>\n      <td>94.000000</td>\n    </tr>\n  </tbody>\n</table>\n<p>8 rows × 43 columns</p>\n</div>"
     },
     "execution_count": 35,
     "metadata": {},
     "output_type": "execute_result"
    }
   ],
   "source": [
    "data.describe()"
   ],
   "metadata": {
    "collapsed": false,
    "pycharm": {
     "name": "#%%\n"
    }
   }
  },
  {
   "cell_type": "code",
   "execution_count": 36,
   "outputs": [
    {
     "data": {
      "text/plain": "(18207, 88)"
     },
     "execution_count": 36,
     "metadata": {},
     "output_type": "execute_result"
    }
   ],
   "source": [
    "data.shape"
   ],
   "metadata": {
    "collapsed": false,
    "pycharm": {
     "name": "#%%\n"
    }
   }
  },
  {
   "cell_type": "code",
   "execution_count": 37,
   "outputs": [
    {
     "data": {
      "text/plain": "ID                  int64\nName               object\nAge                 int64\nPhoto              object\nNationality        object\n                   ...   \nGKHandling        float64\nGKKicking         float64\nGKPositioning     float64\nGKReflexes        float64\nrelease_clause     object\nLength: 88, dtype: object"
     },
     "execution_count": 37,
     "metadata": {},
     "output_type": "execute_result"
    }
   ],
   "source": [
    "data.dtypes"
   ],
   "metadata": {
    "collapsed": false,
    "pycharm": {
     "name": "#%%\n"
    }
   }
  },
  {
   "cell_type": "code",
   "execution_count": 38,
   "outputs": [
    {
     "name": "stdout",
     "output_type": "stream",
     "text": [
      "ID – 0, 0.0%\n",
      "Name – 0, 0.0%\n",
      "Age – 0, 0.0%\n",
      "Photo – 0, 0.0%\n",
      "Nationality – 0, 0.0%\n",
      "Flag – 0, 0.0%\n",
      "Overall – 0, 0.0%\n",
      "Potential – 0, 0.0%\n",
      "Club – 241, 1.32%\n",
      "club_logo – 0, 0.0%\n",
      "Value – 0, 0.0%\n",
      "Wage – 0, 0.0%\n",
      "Special – 0, 0.0%\n",
      "preferred_foot – 48, 0.26%\n",
      "international_reputation – 48, 0.26%\n",
      "weak_foot – 48, 0.26%\n",
      "skill_moves – 48, 0.26%\n",
      "work_rate – 48, 0.26%\n",
      "body_type – 48, 0.26%\n",
      "real_face – 48, 0.26%\n",
      "Position – 60, 0.33%\n",
      "jersey_number – 60, 0.33%\n",
      "Joined – 1553, 8.53%\n",
      "loaned_from – 16943, 93.06%\n",
      "contract_valid_until – 289, 1.59%\n",
      "Height – 48, 0.26%\n",
      "Weight – 48, 0.26%\n",
      "LS – 2085, 11.45%\n",
      "ST – 2085, 11.45%\n",
      "RS – 2085, 11.45%\n",
      "LW – 2085, 11.45%\n",
      "LF – 2085, 11.45%\n",
      "CF – 2085, 11.45%\n",
      "RF – 2085, 11.45%\n",
      "RW – 2085, 11.45%\n",
      "LAM – 2085, 11.45%\n",
      "CAM – 2085, 11.45%\n",
      "RAM – 2085, 11.45%\n",
      "LM – 2085, 11.45%\n",
      "LCM – 2085, 11.45%\n",
      "CM – 2085, 11.45%\n",
      "RCM – 2085, 11.45%\n",
      "RM – 2085, 11.45%\n",
      "LWB – 2085, 11.45%\n",
      "LDM – 2085, 11.45%\n",
      "CDM – 2085, 11.45%\n",
      "RDM – 2085, 11.45%\n",
      "RWB – 2085, 11.45%\n",
      "LB – 2085, 11.45%\n",
      "LCB – 2085, 11.45%\n",
      "CB – 2085, 11.45%\n",
      "RCB – 2085, 11.45%\n",
      "RB – 2085, 11.45%\n",
      "Crossing – 48, 0.26%\n",
      "Finishing – 48, 0.26%\n",
      "HeadingAccuracy – 48, 0.26%\n",
      "ShortPassing – 48, 0.26%\n",
      "Volleys – 48, 0.26%\n",
      "Dribbling – 48, 0.26%\n",
      "Curve – 48, 0.26%\n",
      "FKAccuracy – 48, 0.26%\n",
      "LongPassing – 48, 0.26%\n",
      "BallControl – 48, 0.26%\n",
      "Acceleration – 48, 0.26%\n",
      "SprintSpeed – 48, 0.26%\n",
      "Agility – 48, 0.26%\n",
      "Reactions – 48, 0.26%\n",
      "Balance – 48, 0.26%\n",
      "ShotPower – 48, 0.26%\n",
      "Jumping – 48, 0.26%\n",
      "Stamina – 48, 0.26%\n",
      "Strength – 48, 0.26%\n",
      "LongShots – 48, 0.26%\n",
      "Aggression – 48, 0.26%\n",
      "Interceptions – 48, 0.26%\n",
      "Positioning – 48, 0.26%\n",
      "Vision – 48, 0.26%\n",
      "Penalties – 48, 0.26%\n",
      "Composure – 48, 0.26%\n",
      "Marking – 48, 0.26%\n",
      "StandingTackle – 48, 0.26%\n",
      "SlidingTackle – 48, 0.26%\n",
      "GKDiving – 48, 0.26%\n",
      "GKHandling – 48, 0.26%\n",
      "GKKicking – 48, 0.26%\n",
      "GKPositioning – 48, 0.26%\n",
      "GKReflexes – 48, 0.26%\n",
      "release_clause – 1564, 8.59%\n"
     ]
    }
   ],
   "source": [
    "# Количество пустых значений\n",
    "total_count = data.shape[0]\n",
    "for col in data.columns:\n",
    "    temp_null_count = data[data[col].isnull()].shape[0]\n",
    "    temp_perc = round((temp_null_count / total_count) * 100.0, 2)\n",
    "    print('{} – {}, {}%'.format(col, temp_null_count, temp_perc))"
   ],
   "metadata": {
    "collapsed": false,
    "pycharm": {
     "name": "#%%\n"
    }
   }
  },
  {
   "cell_type": "code",
   "execution_count": 39,
   "outputs": [
    {
     "data": {
      "text/plain": "<AxesSubplot:xlabel='Age', ylabel='Overall'>"
     },
     "execution_count": 39,
     "metadata": {},
     "output_type": "execute_result"
    },
    {
     "data": {
      "text/plain": "<Figure size 720x720 with 1 Axes>",
      "image/png": "[encoded data removed]"
     },
     "metadata": {
      "needs_background": "light"
     },
     "output_type": "display_data"
    }
   ],
   "source": [
    "# Диаграмма рассеяния для двух стобцов\n",
    "fig, ax = plt.subplots(figsize=(10, 10))\n",
    "fig.suptitle(\"Диаграмма рассеяния для колонок Age и Overall\")\n",
    "sns.scatterplot(ax=ax, x='Age', y='Overall', data=data)"
   ],
   "metadata": {
    "collapsed": false,
    "pycharm": {
     "name": "#%%\n"
    }
   }
  },
  {
   "cell_type": "code",
   "execution_count": 40,
   "outputs": [],
   "source": [
    "# Импутация столбца jersey_number с помощью медианы\n",
    "temp_col = SimpleImputer(strategy='median').fit_transform(data[['jersey_number']])\n",
    "data[['JerseyNumber']] = temp_col"
   ],
   "metadata": {
    "collapsed": false,
    "pycharm": {
     "name": "#%%\n"
    }
   }
  },
  {
   "cell_type": "code",
   "execution_count": 42,
   "outputs": [
    {
     "name": "stdout",
     "output_type": "stream",
     "text": [
      "ID – 0, 0.0%\n",
      "Name – 0, 0.0%\n",
      "Age – 0, 0.0%\n",
      "Photo – 0, 0.0%\n",
      "Nationality – 0, 0.0%\n",
      "Flag – 0, 0.0%\n",
      "Overall – 0, 0.0%\n",
      "Potential – 0, 0.0%\n",
      "Club – 241, 1.32%\n",
      "club_logo – 0, 0.0%\n",
      "Value – 0, 0.0%\n",
      "Wage – 0, 0.0%\n",
      "Special – 0, 0.0%\n",
      "preferred_foot – 48, 0.26%\n",
      "international_reputation – 48, 0.26%\n",
      "weak_foot – 48, 0.26%\n",
      "skill_moves – 48, 0.26%\n",
      "work_rate – 48, 0.26%\n",
      "body_type – 48, 0.26%\n",
      "real_face – 48, 0.26%\n",
      "Position – 60, 0.33%\n",
      "jersey_number – 60, 0.33%\n",
      "Joined – 1553, 8.53%\n",
      "loaned_from – 16943, 93.06%\n",
      "contract_valid_until – 289, 1.59%\n",
      "Height – 48, 0.26%\n",
      "Weight – 48, 0.26%\n",
      "LS – 0, 0.0%\n",
      "ST – 2085, 11.45%\n",
      "RS – 2085, 11.45%\n",
      "LW – 2085, 11.45%\n",
      "LF – 2085, 11.45%\n",
      "CF – 2085, 11.45%\n",
      "RF – 2085, 11.45%\n",
      "RW – 2085, 11.45%\n",
      "LAM – 2085, 11.45%\n",
      "CAM – 2085, 11.45%\n",
      "RAM – 2085, 11.45%\n",
      "LM – 2085, 11.45%\n",
      "LCM – 2085, 11.45%\n",
      "CM – 2085, 11.45%\n",
      "RCM – 2085, 11.45%\n",
      "RM – 2085, 11.45%\n",
      "LWB – 2085, 11.45%\n",
      "LDM – 2085, 11.45%\n",
      "CDM – 2085, 11.45%\n",
      "RDM – 2085, 11.45%\n",
      "RWB – 2085, 11.45%\n",
      "LB – 2085, 11.45%\n",
      "LCB – 2085, 11.45%\n",
      "CB – 2085, 11.45%\n",
      "RCB – 2085, 11.45%\n",
      "RB – 2085, 11.45%\n",
      "Crossing – 48, 0.26%\n",
      "Finishing – 48, 0.26%\n",
      "HeadingAccuracy – 48, 0.26%\n",
      "ShortPassing – 48, 0.26%\n",
      "Volleys – 48, 0.26%\n",
      "Dribbling – 48, 0.26%\n",
      "Curve – 48, 0.26%\n",
      "FKAccuracy – 48, 0.26%\n",
      "LongPassing – 48, 0.26%\n",
      "BallControl – 48, 0.26%\n",
      "Acceleration – 48, 0.26%\n",
      "SprintSpeed – 48, 0.26%\n",
      "Agility – 48, 0.26%\n",
      "Reactions – 48, 0.26%\n",
      "Balance – 48, 0.26%\n",
      "ShotPower – 48, 0.26%\n",
      "Jumping – 48, 0.26%\n",
      "Stamina – 48, 0.26%\n",
      "Strength – 48, 0.26%\n",
      "LongShots – 48, 0.26%\n",
      "Aggression – 48, 0.26%\n",
      "Interceptions – 48, 0.26%\n",
      "Positioning – 48, 0.26%\n",
      "Vision – 48, 0.26%\n",
      "Penalties – 48, 0.26%\n",
      "Composure – 48, 0.26%\n",
      "Marking – 48, 0.26%\n",
      "StandingTackle – 48, 0.26%\n",
      "SlidingTackle – 48, 0.26%\n",
      "GKDiving – 48, 0.26%\n",
      "GKHandling – 48, 0.26%\n",
      "GKKicking – 48, 0.26%\n",
      "GKPositioning – 48, 0.26%\n",
      "GKReflexes – 48, 0.26%\n",
      "release_clause – 1564, 8.59%\n",
      "JerseyNumber – 0, 0.0%\n"
     ]
    }
   ],
   "source": [
    "# Импутация константой NA столбца LS\n",
    "temp_col = SimpleImputer(missing_values=np.nan, strategy='constant', fill_value='NA').fit_transform(data[['LS']])\n",
    "data[['LS']] = temp_col\n",
    "\n",
    "# Количество пустых значений\n",
    "total_count = data.shape[0]\n",
    "for col in data.columns:\n",
    "    temp_null_count = data[data[col].isnull()].shape[0]\n",
    "    temp_perc = round((temp_null_count / total_count) * 100.0, 2)\n",
    "    print('{} – {}, {}%'.format(col, temp_null_count, temp_perc))"
   ],
   "metadata": {
    "collapsed": false,
    "pycharm": {
     "name": "#%%\n"
    }
   }
  }
 ],
 "metadata": {
  "kernelspec": {
   "display_name": "Python 3",
   "language": "python",
   "name": "python3"
  },
  "language_info": {
   "codemirror_mode": {
    "name": "ipython",
    "version": 2
   },
   "file_extension": ".py",
   "mimetype": "text/x-python",
   "name": "python",
   "nbconvert_exporter": "python",
   "pygments_lexer": "ipython2",
   "version": "2.7.6"
  }
 },
 "nbformat": 4,
 "nbformat_minor": 0
}